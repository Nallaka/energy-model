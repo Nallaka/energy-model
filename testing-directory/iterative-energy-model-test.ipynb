{
 "cells": [
  {
   "cell_type": "code",
   "execution_count": 29,
   "metadata": {
    "collapsed": true
   },
   "outputs": [],
   "source": [
    "import math\n",
    "import random\n",
    "\n",
    "import matplotlib.pyplot as plt\n",
    "import torch\n",
    "import torch.nn as nn\n",
    "import torch.nn.functional as F\n",
    "import torch.utils.data as data\n",
    "import torch.optim as optim\n",
    "# Torchvision\n",
    "import torchvision\n",
    "from torchvision.datasets import MNIST\n",
    "from torchvision import transforms\n",
    "import kornia as K\n",
    "from scipy import optimize\n",
    "import numpy as np"
   ]
  },
  {
   "cell_type": "code",
   "execution_count": 30,
   "outputs": [],
   "source": [
    "class AddGaussianNoise(object):\n",
    "    def __init__(self, mean=0., std=1.):\n",
    "        self.std = std\n",
    "        self.mean = mean\n",
    "\n",
    "    def __call__(self, tensor):\n",
    "        return tensor + torch.randn(tensor.size()) * self.std + self.mean\n",
    "\n",
    "    def __repr__(self):\n",
    "        return self.__class__.__name__ + '(mean={0}, std={1})'.format(self.mean, self.std)"
   ],
   "metadata": {
    "collapsed": false,
    "pycharm": {
     "name": "#%%\n"
    }
   }
  },
  {
   "cell_type": "code",
   "execution_count": 31,
   "outputs": [
    {
     "name": "stdout",
     "output_type": "stream",
     "text": [
      "Image Size: torch.Size([28, 28])\n",
      "tensor([[  0,   0,   0,   0,   0,   0,   0,   0,   0,   0,   0,   0,   0,   0,\n",
      "           0,   0,   0,   0,   0,   0,   0,   0,   0,   0,   0,   0,   0,   0],\n",
      "        [  0,   0,   0,   0,   0,   0,   0,   0,   0,   0,   0,   0,   0,   0,\n",
      "           0,   0,   0,   0,   0,   0,   0,   0,   0,   0,   0,   0,   0,   0],\n",
      "        [  0,   0,   0,   0,   0,   0,   0,   0,   0,   0,   0,   0,   0,   0,\n",
      "           0,   0,   0,   0,   0,   0,   0,   0,   0,   0,   0,   0,   0,   0],\n",
      "        [  0,   0,   0,   0,   0,   0,   0,   0,   0,   0,   0,   0,   0,   0,\n",
      "           0,   0,   0,   0,   0,   0,   0,   0,   0,   0,   0,   0,   0,   0],\n",
      "        [  0,   0,   0,   0,   0,   0,   0,   0,   0,   0,   0,   0,   0,   0,\n",
      "           0,   0,   0,   0,   0,   0,   0,   0,   0,   0,   0,   0,   0,   0],\n",
      "        [  0,   0,   0,   0,   0,   0,   0,   0,   0,   0,   0,   0, 100, 237,\n",
      "         121,   0,   0,   0,   0,   0,   0,  13,  48,  18,   0,   0,   0,   0],\n",
      "        [  0,   0,   0,   0,   0,   0,   0,   0,   0,   0,   0, 132, 235, 254,\n",
      "         202,   0,   0,   0,   0,   0,   8, 179, 254,  94,   0,   0,   0,   0],\n",
      "        [  0,   0,   0,   0,   0,   0,   0,   0,   0,   0,   0, 224, 254, 237,\n",
      "          48,   0,   0,   0,   0,   0,  10, 209, 254,  94,   0,   0,   0,   0],\n",
      "        [  0,   0,   0,   0,   0,   0,   0,   0,   0,   0,   0, 224, 254, 112,\n",
      "           0,   0,   0,   0,   0,   0,  16, 233, 251,  63,   0,   0,   0,   0],\n",
      "        [  0,   0,   0,   0,   0,   0,   0,   0,   0,   0,  49, 240, 222,  20,\n",
      "           0,   0,   0,   0,   0,   0, 118, 254, 191,   0,   0,   0,   0,   0],\n",
      "        [  0,   0,   0,   0,   0,   0,   0,   0,   0,  19, 231, 255, 120,   0,\n",
      "           0,   0,   0,   0,   0,  23, 205, 254, 111,   0,   0,   0,   0,   0],\n",
      "        [  0,   0,   0,   0,   0,   0,   0,   0,   6, 168, 255, 241,  47,   0,\n",
      "           0,   0,   0,   0,   0,  85, 254, 254,  36,   0,   0,   0,   0,   0],\n",
      "        [  0,   0,   0,   0,   0,   0,   0,   0,  84, 254, 254,  67,   0,   0,\n",
      "           0,   0,   0,   0,   8, 200, 254, 184,  13,   0,   0,   0,   0,   0],\n",
      "        [  0,   0,   0,   0,   0,   0,   0,   3, 172, 254, 221,  18,   0,   0,\n",
      "           0,   0,   0,   0, 120, 254, 246,  48,   0,   0,   0,   0,   0,   0],\n",
      "        [  0,   0,   0,   0,   0,   0,   0, 162, 254, 238,  30,   0,   0,   0,\n",
      "           0,   0,   0,   0, 157, 254, 212,   0,   0,   0,   0,   0,   0,   0],\n",
      "        [  0,   0,   0,   0,   0,   0, 116, 253, 254, 105,   0,   0,   0,   0,\n",
      "           0,   0,   0, 112, 252, 254, 129,   0,   0,   0,   0,   0,   0,   0],\n",
      "        [  0,   0,   0,   0,   0,   0, 198, 254, 172,   1,   0,   0,   0,  36,\n",
      "         107, 146, 249, 253, 254, 210,  13,   0,   0,   0,   0,   0,   0,   0],\n",
      "        [  0,   0,   0,   0,   0,   0, 198, 254, 134,  10,  89,  96, 193, 245,\n",
      "         254, 254, 254, 254, 254, 140,   0,   0,   0,   0,   0,   0,   0,   0],\n",
      "        [  0,   0,   0,   0,   0,   0, 198, 254, 244, 241, 254, 254, 254, 254,\n",
      "         223, 140, 252, 254, 169,   5,   0,   0,   0,   0,   0,   0,   0,   0],\n",
      "        [  0,   0,   0,   0,   0,   0, 137, 252, 254, 254, 254, 218, 176,  88,\n",
      "           0,   0, 250, 254, 120,   0,   0,   0,   0,   0,   0,   0,   0,   0],\n",
      "        [  0,   0,   0,   0,   0,   0,   0,  25,  60, 119,  26,  14,   0,   0,\n",
      "           0,   9, 251, 254,  25,   0,   0,   0,   0,   0,   0,   0,   0,   0],\n",
      "        [  0,   0,   0,   0,   0,   0,   0,   0,   0,   0,   0,   0,   0,   0,\n",
      "           0, 100, 254, 194,   5,   0,   0,   0,   0,   0,   0,   0,   0,   0],\n",
      "        [  0,   0,   0,   0,   0,   0,   0,   0,   0,   0,   0,   0,   0,   0,\n",
      "           0, 189, 254, 166,   0,   0,   0,   0,   0,   0,   0,   0,   0,   0],\n",
      "        [  0,   0,   0,   0,   0,   0,   0,   0,   0,   0,   0,   0,   0,   0,\n",
      "           0, 203, 254, 166,   0,   0,   0,   0,   0,   0,   0,   0,   0,   0],\n",
      "        [  0,   0,   0,   0,   0,   0,   0,   0,   0,   0,   0,   0,   0,   0,\n",
      "           0,  78, 253, 124,   0,   0,   0,   0,   0,   0,   0,   0,   0,   0],\n",
      "        [  0,   0,   0,   0,   0,   0,   0,   0,   0,   0,   0,   0,   0,   0,\n",
      "           0,   0,   0,   0,   0,   0,   0,   0,   0,   0,   0,   0,   0,   0],\n",
      "        [  0,   0,   0,   0,   0,   0,   0,   0,   0,   0,   0,   0,   0,   0,\n",
      "           0,   0,   0,   0,   0,   0,   0,   0,   0,   0,   0,   0,   0,   0],\n",
      "        [  0,   0,   0,   0,   0,   0,   0,   0,   0,   0,   0,   0,   0,   0,\n",
      "           0,   0,   0,   0,   0,   0,   0,   0,   0,   0,   0,   0,   0,   0]],\n",
      "       dtype=torch.uint8)\n"
     ]
    },
    {
     "data": {
      "text/plain": "<Figure size 432x288 with 1 Axes>",
      "image/png": "[encoded data removed]"
     },
     "metadata": {
      "needs_background": "light"
     },
     "output_type": "display_data"
    }
   ],
   "source": [
    "DATASET_PATH = \"./data\"\n",
    "\n",
    "transform = transforms.Compose([transforms.ToTensor(),\n",
    "                                transforms.Normalize((0.5,), (0.5,)),\n",
    "                                AddGaussianNoise(0., .75)])\n",
    "\n",
    "train_set = MNIST(root=DATASET_PATH, train=True, transform=transform, download=True)\n",
    "\n",
    "TEST_IMG_INDEX = 64\n",
    "\n",
    "img = train_set.data[TEST_IMG_INDEX]\n",
    "print(f\"Image Size: {img.size()}\")\n",
    "print(img)\n",
    "plt.title(\"Test Image\")\n",
    "plt.imshow(img, cmap=\"Greys\")\n",
    "\n",
    "train_loader = data.DataLoader(train_set, batch_size=128, shuffle=True, drop_last=True, num_workers=4, pin_memory=True)"
   ],
   "metadata": {
    "collapsed": false,
    "pycharm": {
     "name": "#%%\n"
    }
   }
  },
  {
   "cell_type": "code",
   "execution_count": 32,
   "outputs": [
    {
     "name": "stdout",
     "output_type": "stream",
     "text": [
      "torch.Size([60000, 28, 28])\n"
     ]
    }
   ],
   "source": [
    "input_imgs = torch.clone(train_set.data)\n",
    "input_imgs.data.to(torch.float)\n",
    "print(input_imgs.data.size())\n",
    "noise = torch.rand(input_imgs.data.size(), device=train_set.data.device) * 255\n",
    "\n",
    "noisy_imgs = input_imgs.data.add(noise.data.int())\n",
    "noisy_imgs.data.clamp_(min=0, max=511)\n",
    "\n",
    "clean_img = input_imgs.data[TEST_IMG_INDEX]\n",
    "noisy_img = noisy_imgs.data[TEST_IMG_INDEX]\n",
    "\n",
    "noisy_img_removed = torch.clone(noisy_img)\n",
    "\n",
    "rand_chance = np.random.randint(0, 28, size=28)\n",
    "rand_lines = np.random.randint(0, 28, size=28)\n",
    "\n",
    "for i in rand_lines:\n",
    "    if rand_chance[i] < 9:\n",
    "        for j in range(noisy_img_removed.size()[0]):\n",
    "            noisy_img_removed[j][rand_lines[i]] = 0\n",
    "\n"
   ],
   "metadata": {
    "collapsed": false,
    "pycharm": {
     "name": "#%%\n"
    }
   }
  },
  {
   "cell_type": "code",
   "execution_count": 33,
   "outputs": [
    {
     "data": {
      "text/plain": "<matplotlib.image.AxesImage at 0x15c089ee0>"
     },
     "execution_count": 33,
     "metadata": {},
     "output_type": "execute_result"
    },
    {
     "data": {
      "text/plain": "<Figure size 432x288 with 1 Axes>",
      "image/png": "[encoded data removed]"
     },
     "metadata": {
      "needs_background": "light"
     },
     "output_type": "display_data"
    }
   ],
   "source": [
    "plt.title(\"Clean Img Test:\")\n",
    "plt.imshow(clean_img, cmap=\"Greys\")"
   ],
   "metadata": {
    "collapsed": false,
    "pycharm": {
     "name": "#%%\n"
    }
   }
  },
  {
   "cell_type": "code",
   "execution_count": 34,
   "outputs": [
    {
     "data": {
      "text/plain": "<matplotlib.image.AxesImage at 0x15c0ce340>"
     },
     "execution_count": 34,
     "metadata": {},
     "output_type": "execute_result"
    },
    {
     "data": {
      "text/plain": "<Figure size 432x288 with 1 Axes>",
      "image/png": "[encoded data removed]"
     },
     "metadata": {
      "needs_background": "light"
     },
     "output_type": "display_data"
    }
   ],
   "source": [
    "plt.title(\"Noisy Img Test:\")\n",
    "plt.imshow(noisy_img, cmap=\"Greys\")"
   ],
   "metadata": {
    "collapsed": false,
    "pycharm": {
     "name": "#%%\n"
    }
   }
  },
  {
   "cell_type": "code",
   "execution_count": 35,
   "outputs": [
    {
     "data": {
      "text/plain": "<matplotlib.image.AxesImage at 0x15c13f9d0>"
     },
     "execution_count": 35,
     "metadata": {},
     "output_type": "execute_result"
    },
    {
     "data": {
      "text/plain": "<Figure size 432x288 with 1 Axes>",
      "image/png": "[encoded data removed]"
     },
     "metadata": {
      "needs_background": "light"
     },
     "output_type": "display_data"
    }
   ],
   "source": [
    "plt.title(\"Noisy Img Removed Test:\")\n",
    "plt.imshow(noisy_img_removed, cmap=\"Greys\")"
   ],
   "metadata": {
    "collapsed": false,
    "pycharm": {
     "name": "#%%\n"
    }
   }
  },
  {
   "cell_type": "code",
   "execution_count": 36,
   "outputs": [],
   "source": [
    "ALPHA = 0.1\n",
    "BETA = 0.1"
   ],
   "metadata": {
    "collapsed": false,
    "pycharm": {
     "name": "#%%\n"
    }
   }
  },
  {
   "cell_type": "code",
   "execution_count": 37,
   "outputs": [],
   "source": [
    "def forward_differences(u):\n",
    "    '''\n",
    "        u: Image matrix of dimensions (y,x)\n",
    "        returns matrix fu of dimensions (2,y,x)\n",
    "    '''\n",
    "    fu = np.zeros( [2] + list(u.shape) )\n",
    "\n",
    "    fu[0,:-1,:] = u[1:,:] - u[:-1,:]\t#y differences (rows-1,cols)\n",
    "    fu[1,:,:-1] = u[:,1:] - u[:,:-1]\t#x differences (rows,cols-1)\n",
    "\n",
    "    return fu\n",
    "\n",
    "def backward_differences(u):\n",
    "    '''\n",
    "        u: Image matrix of dimensions (y,x)\n",
    "        returns matrix fu of dimensions (2,y,x)\n",
    "    '''\n",
    "    fu = np.zeros( [2] + list(u.shape) )\n",
    "\n",
    "    fu[0,1:,:] = u[1:,:] - u[:-1,:]\t#y differences\n",
    "    fu[1,:,1:] = u[:,1:] - u[:,:-1]\t#x differences\n",
    "\n",
    "    return fu\n",
    "\n",
    "def forward_differences_second(u):\n",
    "    fu = np.zeros( [2] + list(u.shape) )\n",
    "\n",
    "    fu[0,1:-1,:] = u[0:-2,:] - 2*u[1:-1,:] + u[2:,:]\t#y differences\n",
    "    fu[1,:,1:-1] = u[:,0:-2] - 2*u[:,1:-1] + u[:,2:]\t#x differences\n",
    "\n",
    "    return fu"
   ],
   "metadata": {
    "collapsed": false,
    "pycharm": {
     "name": "#%%\n"
    }
   }
  },
  {
   "cell_type": "code",
   "execution_count": 38,
   "outputs": [],
   "source": [
    "class TotalGradient:\n",
    "    def __init__(self,img):\n",
    "        self.shape = img.shape\n",
    "\n",
    "        self.gradX = np.zeros( (img.shape[0],img.shape[1]) )\n",
    "        self.gradY = np.zeros( (img.shape[0],img.shape[1]) )\n",
    "\n",
    "        self.grad2X = np.zeros( (img.shape[0],img.shape[1]) )\n",
    "        self.grad2Y = np.zeros( (img.shape[0],img.shape[1]) )\n",
    "\n",
    "        fd = forward_differences(img[:,:])\n",
    "        self.gradX[:,:] += fd[0] #dx\n",
    "        self.gradY[:,:] += fd[1] #dy\n",
    "\n",
    "        fd2 = forward_differences_second(img[:,:])\n",
    "        self.grad2X[:,:] += fd2[0] #dx\n",
    "        self.grad2Y[:,:] += fd2[1] #dy\n"
   ],
   "metadata": {
    "collapsed": false,
    "pycharm": {
     "name": "#%%\n"
    }
   }
  },
  {
   "cell_type": "code",
   "execution_count": 39,
   "outputs": [
    {
     "name": "stdout",
     "output_type": "stream",
     "text": [
      "torch.Size([28, 28])\n"
     ]
    },
    {
     "data": {
      "text/plain": "<matplotlib.image.AxesImage at 0x15c052c10>"
     },
     "execution_count": 39,
     "metadata": {},
     "output_type": "execute_result"
    },
    {
     "data": {
      "text/plain": "<Figure size 432x288 with 1 Axes>",
      "image/png": "[encoded data removed]"
     },
     "metadata": {
      "needs_background": "light"
     },
     "output_type": "display_data"
    }
   ],
   "source": [
    "#noisy_img_removed = noisy_img_removed.numpy()\n",
    "print(noisy_img_removed.shape)\n",
    "f = noisy_img_removed.numpy()\n",
    "u = noisy_img_removed.numpy()\n",
    "f = f.astype(\"float64\")\n",
    "u = u.astype(\"float64\")\n",
    "plt.imshow(u, cmap=\"Greys\")"
   ],
   "metadata": {
    "collapsed": false,
    "pycharm": {
     "name": "#%%\n"
    }
   }
  },
  {
   "cell_type": "code",
   "execution_count": 40,
   "outputs": [
    {
     "name": "stdout",
     "output_type": "stream",
     "text": [
      "[[147. 146.  19.  97. 132. 126.  56.   0. 169.  39. 131.  56. 204.   0.\n",
      "  245. 210. 169.  80. 213. 233. 250.  61. 240. 233.   9. 193.   0. 227.]\n",
      " [151. 134. 193. 154. 225.  71.  20.   0.   7. 202. 192.  21. 156.   0.\n",
      "  187.  46.  48. 192.  73.  59.   2. 243.  49. 224. 234. 242.   0. 138.]\n",
      " [ 94. 242.  97. 174. 239. 102. 241.   0. 209.  10. 104. 134.   0.   0.\n",
      "  189. 109. 137. 132. 131. 211. 159. 229.  53.  59. 154. 222.   0. 225.]\n",
      " [ 30. 155. 241.  23. 113.  29. 220.   0.  97.   9. 249.  83. 169.   0.\n",
      "   89.  27. 165. 233.  72.  92. 171.  49. 207.  49. 219. 228.   0. 250.]\n",
      " [ 47.  26. 165. 107. 126.  89.  77.   0. 206. 127. 253.  39.   8.   0.\n",
      "  138. 134. 116. 114. 134.  72. 136. 168. 167. 187. 113.  27.   0. 237.]\n",
      " [ 96. 189. 242. 116.  83. 122. 104.   0.  87. 107.  70.  75. 143.   0.\n",
      "  203. 215. 132. 157. 253. 238. 243. 219. 140. 234. 159.  22.   0. 242.]\n",
      " [161.  54. 226.  87.   7.  21. 137.   0.  18. 149. 226. 148. 439.   0.\n",
      "  348.  18. 232. 132.  31. 186.  61. 306. 407. 293. 136.  62.   0. 220.]\n",
      " [200. 199.  37.  60.  43. 113. 148.   0. 105. 245. 154. 361. 329.   0.\n",
      "  239. 126.  43. 113. 138.  52.  20. 268. 337. 345.  90.   1.   0.  14.]\n",
      " [ 48.  48.   4. 202. 222. 168. 211.   0. 188. 212. 214. 455. 409.   0.\n",
      "  217. 165. 140. 214. 123. 231. 133. 355. 474. 266. 110. 179.   0. 213.]\n",
      " [ 23. 236.  62.  61.  22.  41. 246.   0.  46.  69.  66. 470. 385.   0.\n",
      "   43. 163. 247. 123.   3. 205. 153. 489. 192. 172.  35.  69.   0. 119.]\n",
      " [110. 218. 127.  53. 203.  21. 119.   0. 156. 168. 264. 370. 123.   0.\n",
      "   49.  11. 132. 203. 252. 141. 290. 309. 265. 221.  38.  27.   0. 191.]\n",
      " [127. 245. 187. 246.   7. 127. 157.   0.  85. 241. 467. 322. 115.   0.\n",
      "  159. 161.  89. 116. 245. 189. 452. 421. 142. 245. 206. 202.   0. 203.]\n",
      " [ 13. 173. 110.  51.  47. 215. 199.   0. 217. 505. 276. 136. 144.   0.\n",
      "  218. 243. 119. 217.  60. 211. 407. 316.  71.  70.  34. 252.   0. 151.]\n",
      " [214.  39. 130. 231.  78. 196. 103.   0. 361. 293. 221. 120. 222.   0.\n",
      "  249. 139.  49. 113. 267. 448. 395. 259. 169. 119. 167.  58.   0.  95.]\n",
      " [143.  73. 128.  53.  18.  84. 206.   0. 363. 371.  53. 135. 130.   0.\n",
      "   42. 218. 120.  20. 200. 454. 357. 241.  66. 161. 202. 227.   0.  77.]\n",
      " [ 33. 171. 206.   6.  37. 144. 119.   0. 310. 259. 206. 192. 224.   0.\n",
      "   15. 186. 152. 274. 302. 352. 278. 238. 173. 194. 253. 153.   0. 184.]\n",
      " [  6.   8. 134. 132.   1. 154. 351.   0. 324. 138.  17.  38. 122.   0.\n",
      "  164. 164. 402. 253. 283. 246. 151.  37. 251. 179.  23.  49.   0. 123.]\n",
      " [109. 218. 131. 105. 144. 115. 312.   0. 309.  70. 118. 128. 342.   0.\n",
      "  290. 338. 259. 488. 449. 364. 197. 206. 133. 114.   0. 154.   0. 130.]\n",
      " [114.  32.  46. 185. 192. 145. 432.   0. 397. 362. 349. 300. 458.   0.\n",
      "  340. 279. 254. 379. 230. 176. 153. 176.  36.  20.  31.  48.   0.  75.]\n",
      " [113. 164.  79. 181.  19.  60. 215.   0. 342. 467. 488. 426. 301.   0.\n",
      "  246. 252. 488. 299. 188. 234.  53. 146.  71. 109. 163. 164.   0. 188.]\n",
      " [119. 230. 213. 134. 181. 201. 229.   0. 177. 308. 158. 171. 131.   0.\n",
      "  129. 210. 307. 470. 208. 134. 104.  51. 126. 145. 171.  50.   0.  10.]\n",
      " [ 49.  21. 246. 140.  79.  28. 195.   0. 148.  77. 126. 254. 125.   0.\n",
      "  246. 270. 447. 196.  68. 214. 251.  70.  95. 108. 107. 217.   0.  22.]\n",
      " [163.  51.  60.  74. 245. 103.  29.   0. 241. 222. 153. 254.  80.   0.\n",
      "  236. 308. 370. 174.  22.  95. 232.  85.   3.  44.  13.  39.   0. 106.]\n",
      " [233.  53. 136. 203.  97. 246. 250.   0. 236. 239.  15. 238. 227.   0.\n",
      "    0. 437. 311. 300.   7.  34. 103.  99. 205. 206.  29.  99.   0.  90.]\n",
      " [208.  42.  49.  50.  41. 105. 136.   0. 122.  75.  70.   7.  83.   0.\n",
      "  175. 330. 324. 269. 129. 228. 232. 251.  87.  76. 231. 208.   0. 252.]\n",
      " [140. 221. 195. 229. 133. 111. 219.   0. 206.  17. 129. 188. 105.   0.\n",
      "   17. 127. 122.  50.  64.  18.  17. 211.   2. 209.  40. 244.   0.  22.]\n",
      " [180. 165.  28. 225.  39.  21.   2.   0. 152.  80. 232. 212.   3.   0.\n",
      "    1. 166. 117. 200. 138.  16. 118. 124.  79. 140.  50.  93.   0. 155.]\n",
      " [ 17.  20. 178. 181. 238. 177. 253.   0. 230.   9. 178. 224. 162.   0.\n",
      "  248. 136. 103. 132.  26. 136.  45. 238.  66. 186.  30.   5.   0. 189.]]\n",
      "[[ 1.46798728e+02  1.46700000e+02  1.88000000e+01  9.65000004e+01\n",
      "   1.32000000e+02  1.26200000e+02  5.67000000e+01 -6.99987651e-01\n",
      "   1.69700000e+02  3.83000000e+01  1.31300000e+02  5.57000000e+01\n",
      "   2.04500000e+02 -6.99937480e-01  2.45199999e+02  2.10200000e+02\n",
      "   1.69700000e+02  7.98000000e+01  2.13200000e+02  2.32700000e+02\n",
      "   2.50700000e+02  6.03000003e+01  2.40199999e+02  2.33500000e+02\n",
      "   8.30000000e+00  1.93300000e+02 -5.00625095e-02  2.27200000e+02]\n",
      " [ 1.51500000e+02  1.33300000e+02  1.93700000e+02  1.53300000e+02\n",
      "   2.24800000e+02  7.08000000e+01  2.02999996e+01  1.99962873e-01\n",
      "   6.30000015e+00  2.02000001e+02  1.92700000e+02  2.03000000e+01\n",
      "   1.56700000e+02 -3.00062505e-01  1.87299997e+02  4.58000043e+01\n",
      "   4.75000000e+01  1.92200000e+02  7.27999999e+01  5.93000000e+01\n",
      "   1.49999997e+00  2.43500000e+02  4.90000002e+01  2.24000000e+02\n",
      "   2.33700000e+02  2.42700000e+02 -4.49937490e-01  1.38000000e+02]\n",
      " [ 9.37000000e+01  2.42500000e+02  9.68000000e+01  1.73700000e+02\n",
      "   2.39700000e+02  1.01700000e+02  2.41500000e+02 -6.99843690e-01\n",
      "   2.09700000e+02  1.01999986e+01  1.03500000e+02  1.34000013e+02\n",
      "   2.99987499e-01 -6.99937504e-01  1.89700000e+02  1.08700001e+02\n",
      "   1.36800004e+02  1.32299995e+02  1.30700000e+02  2.11500000e+02\n",
      "   1.58300000e+02  2.29700000e+02  5.28000003e+01  5.92000000e+01\n",
      "   1.53300000e+02  2.22300000e+02 -5.00625095e-02  2.24800000e+02]\n",
      " [ 3.00000000e+01  1.54700000e+02  2.41700000e+02  2.25000000e+01\n",
      "   1.13300000e+02  2.85000000e+01  2.20700000e+02 -3.00180514e-01\n",
      "   9.73000000e+01  8.30000001e+00  2.49300000e+02  8.27000000e+01\n",
      "   1.69700000e+02 -3.00037411e-01  8.95000000e+01  2.70000000e+01\n",
      "   1.64700000e+02  2.33700000e+02  7.20000000e+01  9.17000000e+01\n",
      "   1.71700000e+02  4.85000000e+01  2.07500000e+02  4.89999999e+01\n",
      "   2.18700000e+02  2.28500000e+02 -4.49937490e-01  2.50200000e+02]\n",
      " [ 4.75000000e+01  2.53000000e+01  1.65300000e+02  1.06300000e+02\n",
      "   1.26000000e+02  8.87999999e+01  7.75000000e+01 -4.99975757e-01\n",
      "   2.06500000e+02  1.26700000e+02  2.53200000e+02  3.90000001e+01\n",
      "   8.49999985e+00 -6.99986944e-01  1.37999999e+02  1.33800001e+02\n",
      "   1.16499999e+02  1.13300000e+02  1.34300000e+02  7.18000000e+01\n",
      "   1.35300004e+02  1.68499996e+02  1.66700000e+02  1.87000000e+02\n",
      "   1.12800000e+02  2.76999998e+01 -5.00625095e-02  2.36800000e+02]\n",
      " [ 9.60000000e+01  1.88700000e+02  2.42000000e+02  1.16500000e+02\n",
      "   8.27000000e+01  1.22200000e+02  1.04500000e+02 -1.99937517e-01\n",
      "   8.67000000e+01  1.07499999e+02  6.98000006e+01  7.45000000e+01\n",
      "   1.43300000e+02  1.99962506e-01  2.02300000e+02  2.15700000e+02\n",
      "   1.31800000e+02  1.56500000e+02  2.53700000e+02  2.37500000e+02\n",
      "   2.43000000e+02  2.19300000e+02  1.39300000e+02  2.34000000e+02\n",
      "   1.59000000e+02  2.23000000e+01 -4.49937490e-01  2.42000000e+02]\n",
      " [ 1.61300000e+02  5.33000000e+01  2.26000000e+02  8.76999999e+01\n",
      "   7.00000007e+00  2.05000000e+01  1.37500000e+02  1.99937529e-01\n",
      "   1.80000000e+01  1.48300000e+02  2.26700000e+02  1.47500000e+02\n",
      "   4.39700000e+02 -6.99937505e-01  3.48500000e+02  1.75000000e+01\n",
      "   2.32200000e+02  1.32700000e+02  3.03000000e+01  1.86700000e+02\n",
      "   6.12000000e+01  3.05700000e+02  4.07200000e+02  2.92800000e+02\n",
      "   1.36200000e+02  6.27000000e+01 -5.00625095e-02  2.20200000e+02]\n",
      " [ 1.99999861e+02  1.99700000e+02  3.67000001e+01  6.03000000e+01\n",
      "   4.28000000e+01  1.12300000e+02  1.48500000e+02 -1.99937490e-01\n",
      "   1.04300000e+02  2.45500000e+02  1.53300000e+02  3.61000000e+02\n",
      "   3.29300000e+02 -3.00037416e-01  2.39000000e+02  1.26300001e+02\n",
      "   4.30000000e+01  1.12300000e+02  1.38000000e+02  5.23000000e+01\n",
      "   2.00000000e+01  2.68000000e+02  3.36300000e+02  3.45000000e+02\n",
      "   8.98000041e+01  1.29999586e+00 -4.49937429e-01  1.38000000e+01]\n",
      " [ 4.77000347e+01  4.83000000e+01  3.99999997e+00  2.01500000e+02\n",
      "   2.22700000e+02  1.67500000e+02  2.11300000e+02  1.99937469e-01\n",
      "   1.88199994e+02  2.12200006e+02  2.13700000e+02  4.54800000e+02\n",
      "   4.09500000e+02 -6.99983617e-01  2.17200000e+02  1.65499999e+02\n",
      "   1.39300000e+02  2.14700000e+02  1.22700000e+02  2.31500000e+02\n",
      "   1.33000000e+02  3.54300000e+02  4.74200000e+02  2.66700000e+02\n",
      "   1.09700000e+02  1.79500000e+02 -5.00625095e-02  2.13200000e+02]\n",
      " [ 2.25000000e+01  2.36200139e+02  6.19998611e+01  6.16999999e+01\n",
      "   2.18000000e+01  4.07000000e+01  2.46700000e+02 -1.99937509e-01\n",
      "   4.53000008e+01  6.94999992e+01  6.55000000e+01  4.70000000e+02\n",
      "   3.85500000e+02  1.99934297e-01  4.30000001e+01  1.62700000e+02\n",
      "   2.47000000e+02  1.23300000e+02  2.30000011e+00  2.05700000e+02\n",
      "   1.52500000e+02  4.89200000e+02  1.91800000e+02  1.72500000e+02\n",
      "   3.45000005e+01  6.97000000e+01 -4.49937489e-01  1.19000000e+02]\n",
      " [ 1.09300000e+02  2.17800000e+02  1.27300000e+02  5.23000000e+01\n",
      "   2.03700000e+02  2.05000000e+01  1.19500000e+02  1.99937416e-01\n",
      "   1.56200000e+02  1.68000000e+02  2.63300000e+02  3.70000000e+02\n",
      "   1.23700000e+02 -4.99975735e-01  4.95000000e+01  1.10000000e+01\n",
      "   1.32200000e+02  2.02700000e+02  2.52500000e+02  1.41000000e+02\n",
      "   2.89300000e+02  3.08800000e+02  2.65000000e+02  2.20800000e+02\n",
      "   3.77999999e+01  2.75000000e+01 -5.00625094e-02  1.90800000e+02]\n",
      " [ 1.26700000e+02  2.45500000e+02  1.86700000e+02  2.46700000e+02\n",
      "   6.99999999e+00  1.26300000e+02  1.57300000e+02 -1.99962582e-01\n",
      "   8.50000000e+01  2.40300000e+02  4.67000000e+02  3.22000000e+02\n",
      "   1.15500000e+02 -1.99960137e-01  1.58500002e+02  1.61300000e+02\n",
      "   8.88000000e+01  1.15300000e+02  2.45700000e+02  1.88500000e+02\n",
      "   4.52000000e+02  4.21500000e+02  1.41700000e+02  2.45200001e+02\n",
      "   2.06199999e+02  2.02300000e+02 -4.49937490e-01  2.03000000e+02]\n",
      " [ 1.23000000e+01  1.73200000e+02  1.09800002e+02  5.12999995e+01\n",
      "   4.63000001e+01  2.15000000e+02  1.99700000e+02  1.99983622e-01\n",
      "   2.16499999e+02  5.05200000e+02  2.76500000e+02  1.35700000e+02\n",
      "   1.44300000e+02  1.99934273e-01  2.17300000e+02  2.43700000e+02\n",
      "   1.18700000e+02  2.17500000e+02  5.98000000e+01  2.10500000e+02\n",
      "   4.07000000e+02  3.16000139e+02  7.07998611e+01  7.05000000e+01\n",
      "   3.35000000e+01  2.52700000e+02 -5.00625092e-02  1.51000000e+02]\n",
      " [ 2.14500000e+02  3.90000000e+01  1.29699999e+02  2.31500000e+02\n",
      "   7.77000000e+01  1.96200000e+02  1.03300000e+02 -6.99934297e-01\n",
      "   3.60800001e+02  2.92800000e+02  2.21700000e+02  1.19500000e+02\n",
      "   2.22700000e+02 -4.99975737e-01  2.49000000e+02  1.39300000e+02\n",
      "   4.90000000e+01  1.13200000e+02  2.66700000e+02  4.47800000e+02\n",
      "   3.95000000e+02  2.59000001e+02  1.69700000e+02  1.18500000e+02\n",
      "   1.67000000e+02  5.83000000e+01 -4.49937489e-01  9.52000000e+01]\n",
      " [ 1.43500000e+02  7.23000000e+01  1.27800000e+02  5.37000000e+01\n",
      "   1.78000000e+01  8.35000000e+01  2.06700000e+02 -2.43869789e-05\n",
      "   3.62700000e+02  3.71500000e+02  5.23000006e+01  1.34799999e+02\n",
      "   1.30300000e+02 -1.99962577e-01  4.17000000e+01  2.18000000e+02\n",
      "   1.20500000e+02  1.98000000e+01  1.99300000e+02  4.54000000e+02\n",
      "   3.57000000e+02  2.41499999e+02  6.60000000e+01  1.60800000e+02\n",
      "   2.01300000e+02  2.27500000e+02 -5.00625077e-02  7.68000000e+01]\n",
      " [ 3.32000000e+01  1.70700000e+02  2.06500001e+02  5.80000002e+00\n",
      "   3.67000000e+01  1.43800000e+02  1.19300000e+02 -3.00062553e-01\n",
      "   3.09800000e+02  2.59000000e+02  2.06700000e+02  1.91700000e+02\n",
      "   2.24700000e+02  1.99987715e-01  1.45000000e+01  1.86700000e+02\n",
      "   1.51800000e+02  2.74200000e+02  3.01700000e+02  3.52200000e+02\n",
      "   2.78200000e+02  2.38700000e+02  1.72800000e+02  1.93500000e+02\n",
      "   2.53000000e+02  1.53700000e+02 -4.49937490e-01  1.84200000e+02]\n",
      " [ 6.00000727e+00  7.30000740e+00  1.33999992e+02  1.32700000e+02\n",
      "   9.99999998e-01  1.53700000e+02  3.51700000e+02 -6.99843807e-01\n",
      "   3.24200000e+02  1.38700000e+02  1.70000000e+01  3.75000000e+01\n",
      "   1.22500000e+02 -6.99978974e-01  1.64499991e+02  1.63300000e+02\n",
      "   4.02500000e+02  2.52300000e+02  2.82800000e+02  2.45800000e+02\n",
      "   1.51300000e+02  3.63000000e+01  2.51000000e+02  1.79500000e+02\n",
      "   2.27000000e+01  4.93000000e+01 -5.00625089e-02  1.22800000e+02]\n",
      " [ 1.08300001e+02  2.18200000e+02  1.31700000e+02  1.04300001e+02\n",
      "   1.44300000e+02  1.14300000e+02  3.12300000e+02 -3.00180321e-01\n",
      "   3.09300000e+02  6.99999999e+01  1.18000000e+02  1.27500000e+02\n",
      "   3.42300000e+02  1.99987648e-01  2.89300000e+02  3.38500000e+02\n",
      "   2.58700000e+02  4.88000000e+02  4.49000000e+02  3.64700000e+02\n",
      "   1.96500000e+02  2.06000000e+02  1.33200000e+02  1.14700000e+02\n",
      "  -4.99999994e-01  1.54700000e+02 -4.49937489e-01  1.30200000e+02]\n",
      " [ 1.14699999e+02  3.20000001e+01  4.59999998e+01  1.84500000e+02\n",
      "   1.92700000e+02  1.44700000e+02  4.32700000e+02 -5.00069594e-01\n",
      "   3.97000000e+02  3.61800000e+02  3.49300000e+02  2.99300000e+02\n",
      "   4.58500000e+02 -6.99962568e-01  3.40000000e+02  2.79500000e+02\n",
      "   2.53300000e+02  3.79200000e+02  2.30200000e+02  1.76300000e+02\n",
      "   1.52700000e+02  1.76000000e+02  3.64999998e+01  2.00000001e+01\n",
      "   3.05000000e+01  4.83000000e+01 -5.00625075e-02  7.48000000e+01]\n",
      " [ 1.12300000e+02  1.64300000e+02  7.85000000e+01  1.81700000e+02\n",
      "   1.88000000e+01  5.93000000e+01  2.15300000e+02 -1.99819476e-01\n",
      "   3.42000000e+02  4.66500000e+02  4.88000000e+02  4.26200000e+02\n",
      "   3.01500000e+02  1.99937080e-01  2.46200000e+02  2.51700000e+02\n",
      "   4.88200000e+02  2.99300000e+02  1.87300000e+02  2.34700000e+02\n",
      "   5.25000000e+01  1.46700000e+02  7.08000000e+01  1.08799998e+02\n",
      "   1.62300002e+02  1.64700000e+02 -4.49937490e-01  1.88200000e+02]\n",
      " [ 1.18700000e+02  2.30200000e+02  2.13300000e+02  1.33800000e+02\n",
      "   1.81200000e+02  2.00700000e+02  2.29500000e+02 -2.42511614e-05\n",
      "   1.76700000e+02  3.08700000e+02  1.57700000e+02  1.70999875e+02\n",
      "   1.31500000e+02 -1.99937497e-01  1.28800000e+02  2.10000000e+02\n",
      "   3.06300000e+02  4.70000000e+02  2.08000000e+02  1.33800000e+02\n",
      "   1.04300000e+02  5.10000000e+01  1.26000000e+02  1.44500000e+02\n",
      "   1.71000000e+02  5.02999999e+01 -5.00623860e-02  1.00000000e+01]\n",
      " [ 4.95000000e+01  2.04999991e+01  2.46200000e+02  1.40200000e+02\n",
      "   7.93000000e+01  2.75000000e+01  1.95700000e+02 -3.00041454e-01\n",
      "   1.48300000e+02  7.70000000e+01  1.25300000e+02  2.53800125e+02\n",
      "   1.25700000e+02  1.99958520e-01  2.46000000e+02  2.69500000e+02\n",
      "   4.47000000e+02  1.96700000e+02  6.80000000e+01  2.13500000e+02\n",
      "   2.51500000e+02  6.99999999e+01  9.47000032e+01  1.08699997e+02\n",
      "   1.06700000e+02  2.17700000e+02 -4.49937465e-01  2.18000000e+01]\n",
      " [ 1.63300000e+02  5.08000010e+01  5.98000001e+01  7.33000000e+01\n",
      "   2.45000000e+02  1.02800000e+02  2.93000000e+01 -6.99934273e-01\n",
      "   2.41000000e+02  2.22300000e+02  1.52700000e+02  2.54000000e+02\n",
      "   8.03000000e+01 -1.99934307e-01  2.36200000e+02  3.07300000e+02\n",
      "   3.70200000e+02  1.74300000e+02  2.22000000e+01  9.47000000e+01\n",
      "   2.32200000e+02  8.55000000e+01  2.30000002e+00  4.43000000e+01\n",
      "   1.25000000e+01  3.95000000e+01 -5.00625126e-02  1.06200000e+02]\n",
      " [ 2.33500000e+02  5.32000000e+01  1.35700000e+02  2.03700000e+02\n",
      "   9.71999995e+01  2.45700000e+02  2.50700000e+02 -2.50155316e-05\n",
      "   2.35700001e+02  2.39500000e+02  1.45000001e+01  2.38200000e+02\n",
      "   2.27200009e+02  4.99967090e-01 -6.99999999e-01  4.37000000e+02\n",
      "   3.10800000e+02  3.00500000e+02  6.80000002e+00  3.33000006e+01\n",
      "   1.03299999e+02  9.87999974e+01  2.04500003e+02  2.06700000e+02\n",
      "   2.83000000e+01  9.95000000e+01 -4.49937404e-01  8.98000000e+01]\n",
      " [ 2.08700000e+02  4.17999972e+01  4.83000033e+01  5.03000002e+01\n",
      "   4.08000000e+01  1.04300000e+02  1.36300000e+02 -3.00087232e-01\n",
      "   1.21800001e+02  7.51999994e+01  7.05000000e+01  6.50000000e+00\n",
      "   8.33000000e+01  1.99913251e-01  1.74500000e+02  3.30200000e+02\n",
      "   3.24000000e+02  2.69700000e+02  1.29199999e+02  2.28000002e+02\n",
      "   2.31700000e+02  2.51000000e+02  8.76999999e+01  7.53000000e+01\n",
      "   2.31200000e+02  2.08300000e+02 -5.00872387e-02  2.52200000e+02]\n",
      " [ 1.39300000e+02  2.21500000e+02  1.94700000e+02  2.29000000e+02\n",
      "   1.33700000e+02  1.10700000e+02  2.19700000e+02 -6.99442840e-01\n",
      "   2.06700000e+02  1.68000000e+01  1.28300000e+02  1.88000000e+02\n",
      "   1.05700000e+02 -1.99930588e-01  1.67000007e+01  1.26799999e+02\n",
      "   1.22500000e+02  4.93000001e+01  6.38000022e+01  1.86999972e+01\n",
      "   1.63000000e+01  2.11700000e+02  1.30000003e+00  2.09700000e+02\n",
      "   3.93000001e+01  2.44500000e+02 -4.49442816e-01  2.20000000e+01]\n",
      " [ 1.80100000e+02  1.65600000e+02  2.74000000e+01  2.25100000e+02\n",
      "   3.89000000e+01  2.09000016e+01  2.39999841e+00 -4.00501253e-01\n",
      "   1.52400000e+02  7.96000000e+01  2.32100000e+02  2.11900001e+02\n",
      "   3.39985996e+00  1.00125008e-01  4.00000006e-01  1.66600000e+02\n",
      "   1.16600000e+02  2.00100000e+02  1.38600000e+02  1.58999997e+01\n",
      "   1.17600000e+02  1.24400000e+02  7.86000000e+01  1.40400000e+02\n",
      "   4.96000000e+01  9.36000000e+01 -1.50501256e-01  1.54900000e+02]\n",
      " [ 1.70000014e+01  1.99999980e+01  1.78000002e+02  1.80500000e+02\n",
      "   2.38500000e+02  1.76500000e+02  2.53500000e+02 -5.00000000e-01\n",
      "   2.30500000e+02  8.99999999e+00  1.77500000e+02  2.24000000e+02\n",
      "   1.62500000e+02 -4.99999999e-01  2.48000000e+02  1.36500000e+02\n",
      "   1.02500000e+02  1.32500000e+02  2.55000000e+01  1.36500000e+02\n",
      "   4.45000000e+01  2.38500000e+02  6.55000000e+01  1.86000000e+02\n",
      "   3.00000004e+01  5.49999962e+00 -2.50000000e-01  1.89000000e+02]]\n"
     ]
    },
    {
     "data": {
      "text/plain": "<matplotlib.image.AxesImage at 0x15c01abb0>"
     },
     "execution_count": 40,
     "metadata": {},
     "output_type": "execute_result"
    },
    {
     "data": {
      "text/plain": "<Figure size 432x288 with 1 Axes>",
      "image/png": "[encoded data removed]"
     },
     "metadata": {
      "needs_background": "light"
     },
     "output_type": "display_data"
    }
   ],
   "source": [
    "print(u)\n",
    "for i in range (0, 2560000):\n",
    "    TG = TotalGradient(u)\n",
    "    TGX2 = TotalGradient(TG.gradX / np.sqrt(TG.gradX**2 + 1e-4))\n",
    "    TGY2 = TotalGradient(TG.gradY / np.sqrt(TG.gradY**2 + 1e-4))\n",
    "    s = (0.1* TGX2.gradX + 0.25 * TGY2.gradY + (f - u))\n",
    "    u = s * 0.01 + u\n",
    "\n",
    "print(u)\n",
    "plt.imshow(u, cmap=\"Greys\")"
   ],
   "metadata": {
    "collapsed": false,
    "pycharm": {
     "name": "#%%\n"
    }
   }
  },
  {
   "cell_type": "code",
   "execution_count": 41,
   "outputs": [],
   "source": [
    "class Energy:\n",
    "    def __init__(self, f, u, alpha, beta, learning_rate):\n",
    "        self.f = f\n",
    "        self.u = u\n",
    "        self.alpha = alpha\n",
    "        self.beta = beta\n",
    "        self.learning_rate = learning_rate\n",
    "        self.img_shape = f.shape\n",
    "        self.img_size = f.size\n",
    "\n",
    "    def fn_jac(self, u):\n",
    "        _u = f.reshape(self.img_shape)\n",
    "        TG = TotalGradient(_u)\n",
    "        TGX2 = TotalGradient(TG.gradX / np.sqrt(TG.gradX**2 + 1e-4))\n",
    "        TGY2 = TotalGradient(TG.gradY / np.sqrt(TG.gradY**2 + 1e-4))\n",
    "\n",
    "        S =  (self.alpha* TGX2.gradX.any() + self.beta * TGY2.gradY.any() + (f - _u))\n",
    "        return S\n",
    "\n",
    "    def energy(self, u):\n",
    "        _u = u.reshape(self.img_shape)\n",
    "        TG = TotalGradient(_u)\n",
    "\n",
    "        E = np.sum(self.alpha * np.abs(TG.gradX.any()) + self.beta * np.abs(TG.gradY.any()) + 0.5 * ((f - _u)**2))\n",
    "        return E"
   ],
   "metadata": {
    "collapsed": false,
    "pycharm": {
     "name": "#%%\n"
    }
   }
  },
  {
   "cell_type": "code",
   "execution_count": 42,
   "outputs": [
    {
     "name": "stdout",
     "output_type": "stream",
     "text": [
      "[[0.06 0.06 0.06 0.06 0.06 0.06 0.06 0.06 0.06 0.06 0.06 0.06 0.06 0.06\n",
      "  0.06 0.06 0.06 0.06 0.06 0.06 0.06 0.06 0.06 0.06 0.06 0.06 0.06 0.06]\n",
      " [0.06 0.06 0.06 0.06 0.06 0.06 0.06 0.06 0.06 0.06 0.06 0.06 0.06 0.06\n",
      "  0.06 0.06 0.06 0.06 0.06 0.06 0.06 0.06 0.06 0.06 0.06 0.06 0.06 0.06]\n",
      " [0.06 0.06 0.06 0.06 0.06 0.06 0.06 0.06 0.06 0.06 0.06 0.06 0.06 0.06\n",
      "  0.06 0.06 0.06 0.06 0.06 0.06 0.06 0.06 0.06 0.06 0.06 0.06 0.06 0.06]\n",
      " [0.06 0.06 0.06 0.06 0.06 0.06 0.06 0.06 0.06 0.06 0.06 0.06 0.06 0.06\n",
      "  0.06 0.06 0.06 0.06 0.06 0.06 0.06 0.06 0.06 0.06 0.06 0.06 0.06 0.06]\n",
      " [0.06 0.06 0.06 0.06 0.06 0.06 0.06 0.06 0.06 0.06 0.06 0.06 0.06 0.06\n",
      "  0.06 0.06 0.06 0.06 0.06 0.06 0.06 0.06 0.06 0.06 0.06 0.06 0.06 0.06]\n",
      " [0.06 0.06 0.06 0.06 0.06 0.06 0.06 0.06 0.06 0.06 0.06 0.06 0.06 0.06\n",
      "  0.06 0.06 0.06 0.06 0.06 0.06 0.06 0.06 0.06 0.06 0.06 0.06 0.06 0.06]\n",
      " [0.06 0.06 0.06 0.06 0.06 0.06 0.06 0.06 0.06 0.06 0.06 0.06 0.06 0.06\n",
      "  0.06 0.06 0.06 0.06 0.06 0.06 0.06 0.06 0.06 0.06 0.06 0.06 0.06 0.06]\n",
      " [0.06 0.06 0.06 0.06 0.06 0.06 0.06 0.06 0.06 0.06 0.06 0.06 0.06 0.06\n",
      "  0.06 0.06 0.06 0.06 0.06 0.06 0.06 0.06 0.06 0.06 0.06 0.06 0.06 0.06]\n",
      " [0.06 0.06 0.06 0.06 0.06 0.06 0.06 0.06 0.06 0.06 0.06 0.06 0.06 0.06\n",
      "  0.06 0.06 0.06 0.06 0.06 0.06 0.06 0.06 0.06 0.06 0.06 0.06 0.06 0.06]\n",
      " [0.06 0.06 0.06 0.06 0.06 0.06 0.06 0.06 0.06 0.06 0.06 0.06 0.06 0.06\n",
      "  0.06 0.06 0.06 0.06 0.06 0.06 0.06 0.06 0.06 0.06 0.06 0.06 0.06 0.06]\n",
      " [0.06 0.06 0.06 0.06 0.06 0.06 0.06 0.06 0.06 0.06 0.06 0.06 0.06 0.06\n",
      "  0.06 0.06 0.06 0.06 0.06 0.06 0.06 0.06 0.06 0.06 0.06 0.06 0.06 0.06]\n",
      " [0.06 0.06 0.06 0.06 0.06 0.06 0.06 0.06 0.06 0.06 0.06 0.06 0.06 0.06\n",
      "  0.06 0.06 0.06 0.06 0.06 0.06 0.06 0.06 0.06 0.06 0.06 0.06 0.06 0.06]\n",
      " [0.06 0.06 0.06 0.06 0.06 0.06 0.06 0.06 0.06 0.06 0.06 0.06 0.06 0.06\n",
      "  0.06 0.06 0.06 0.06 0.06 0.06 0.06 0.06 0.06 0.06 0.06 0.06 0.06 0.06]\n",
      " [0.06 0.06 0.06 0.06 0.06 0.06 0.06 0.06 0.06 0.06 0.06 0.06 0.06 0.06\n",
      "  0.06 0.06 0.06 0.06 0.06 0.06 0.06 0.06 0.06 0.06 0.06 0.06 0.06 0.06]\n",
      " [0.06 0.06 0.06 0.06 0.06 0.06 0.06 0.06 0.06 0.06 0.06 0.06 0.06 0.06\n",
      "  0.06 0.06 0.06 0.06 0.06 0.06 0.06 0.06 0.06 0.06 0.06 0.06 0.06 0.06]\n",
      " [0.06 0.06 0.06 0.06 0.06 0.06 0.06 0.06 0.06 0.06 0.06 0.06 0.06 0.06\n",
      "  0.06 0.06 0.06 0.06 0.06 0.06 0.06 0.06 0.06 0.06 0.06 0.06 0.06 0.06]\n",
      " [0.06 0.06 0.06 0.06 0.06 0.06 0.06 0.06 0.06 0.06 0.06 0.06 0.06 0.06\n",
      "  0.06 0.06 0.06 0.06 0.06 0.06 0.06 0.06 0.06 0.06 0.06 0.06 0.06 0.06]\n",
      " [0.06 0.06 0.06 0.06 0.06 0.06 0.06 0.06 0.06 0.06 0.06 0.06 0.06 0.06\n",
      "  0.06 0.06 0.06 0.06 0.06 0.06 0.06 0.06 0.06 0.06 0.06 0.06 0.06 0.06]\n",
      " [0.06 0.06 0.06 0.06 0.06 0.06 0.06 0.06 0.06 0.06 0.06 0.06 0.06 0.06\n",
      "  0.06 0.06 0.06 0.06 0.06 0.06 0.06 0.06 0.06 0.06 0.06 0.06 0.06 0.06]\n",
      " [0.06 0.06 0.06 0.06 0.06 0.06 0.06 0.06 0.06 0.06 0.06 0.06 0.06 0.06\n",
      "  0.06 0.06 0.06 0.06 0.06 0.06 0.06 0.06 0.06 0.06 0.06 0.06 0.06 0.06]\n",
      " [0.06 0.06 0.06 0.06 0.06 0.06 0.06 0.06 0.06 0.06 0.06 0.06 0.06 0.06\n",
      "  0.06 0.06 0.06 0.06 0.06 0.06 0.06 0.06 0.06 0.06 0.06 0.06 0.06 0.06]\n",
      " [0.06 0.06 0.06 0.06 0.06 0.06 0.06 0.06 0.06 0.06 0.06 0.06 0.06 0.06\n",
      "  0.06 0.06 0.06 0.06 0.06 0.06 0.06 0.06 0.06 0.06 0.06 0.06 0.06 0.06]\n",
      " [0.06 0.06 0.06 0.06 0.06 0.06 0.06 0.06 0.06 0.06 0.06 0.06 0.06 0.06\n",
      "  0.06 0.06 0.06 0.06 0.06 0.06 0.06 0.06 0.06 0.06 0.06 0.06 0.06 0.06]\n",
      " [0.06 0.06 0.06 0.06 0.06 0.06 0.06 0.06 0.06 0.06 0.06 0.06 0.06 0.06\n",
      "  0.06 0.06 0.06 0.06 0.06 0.06 0.06 0.06 0.06 0.06 0.06 0.06 0.06 0.06]\n",
      " [0.06 0.06 0.06 0.06 0.06 0.06 0.06 0.06 0.06 0.06 0.06 0.06 0.06 0.06\n",
      "  0.06 0.06 0.06 0.06 0.06 0.06 0.06 0.06 0.06 0.06 0.06 0.06 0.06 0.06]\n",
      " [0.06 0.06 0.06 0.06 0.06 0.06 0.06 0.06 0.06 0.06 0.06 0.06 0.06 0.06\n",
      "  0.06 0.06 0.06 0.06 0.06 0.06 0.06 0.06 0.06 0.06 0.06 0.06 0.06 0.06]\n",
      " [0.06 0.06 0.06 0.06 0.06 0.06 0.06 0.06 0.06 0.06 0.06 0.06 0.06 0.06\n",
      "  0.06 0.06 0.06 0.06 0.06 0.06 0.06 0.06 0.06 0.06 0.06 0.06 0.06 0.06]\n",
      " [0.06 0.06 0.06 0.06 0.06 0.06 0.06 0.06 0.06 0.06 0.06 0.06 0.06 0.06\n",
      "  0.06 0.06 0.06 0.06 0.06 0.06 0.06 0.06 0.06 0.06 0.06 0.06 0.06 0.06]]\n"
     ]
    },
    {
     "ename": "ValueError",
     "evalue": "The truth value of an array with more than one element is ambiguous. Use a.any() or a.all()",
     "output_type": "error",
     "traceback": [
      "\u001B[0;31m---------------------------------------------------------------------------\u001B[0m",
      "\u001B[0;31mValueError\u001B[0m                                Traceback (most recent call last)",
      "\u001B[0;32m/var/folders/kp/7nftpmwd1y18rnpzrh5_wp600000gn/T/ipykernel_29700/3008360542.py\u001B[0m in \u001B[0;36m<module>\u001B[0;34m\u001B[0m\n\u001B[1;32m      2\u001B[0m \u001B[0mmax_it\u001B[0m \u001B[0;34m=\u001B[0m \u001B[0;36m100000\u001B[0m\u001B[0;34m\u001B[0m\u001B[0;34m\u001B[0m\u001B[0m\n\u001B[1;32m      3\u001B[0m \u001B[0mprint\u001B[0m\u001B[0;34m(\u001B[0m\u001B[0mE\u001B[0m\u001B[0;34m.\u001B[0m\u001B[0mfn_jac\u001B[0m\u001B[0;34m(\u001B[0m\u001B[0mu\u001B[0m\u001B[0;34m)\u001B[0m\u001B[0;34m)\u001B[0m\u001B[0;34m\u001B[0m\u001B[0;34m\u001B[0m\u001B[0m\n\u001B[0;32m----> 4\u001B[0;31m \u001B[0msolution\u001B[0m\u001B[0;34m=\u001B[0m\u001B[0moptimize\u001B[0m\u001B[0;34m.\u001B[0m\u001B[0mminimize\u001B[0m\u001B[0;34m(\u001B[0m\u001B[0;32mlambda\u001B[0m \u001B[0mu\u001B[0m\u001B[0;34m:\u001B[0m \u001B[0mE\u001B[0m\u001B[0;34m.\u001B[0m\u001B[0menergy\u001B[0m\u001B[0;34m(\u001B[0m\u001B[0mu\u001B[0m\u001B[0;34m)\u001B[0m\u001B[0;34m,\u001B[0m\u001B[0mnp\u001B[0m\u001B[0;34m.\u001B[0m\u001B[0mzeros\u001B[0m\u001B[0;34m(\u001B[0m\u001B[0mE\u001B[0m\u001B[0;34m.\u001B[0m\u001B[0mf\u001B[0m\u001B[0;34m.\u001B[0m\u001B[0msize\u001B[0m\u001B[0;34m,\u001B[0m\u001B[0;34m)\u001B[0m\u001B[0;34m,\u001B[0m\u001B[0mjac\u001B[0m\u001B[0;34m=\u001B[0m\u001B[0;32mlambda\u001B[0m \u001B[0mu\u001B[0m\u001B[0;34m:\u001B[0m \u001B[0mE\u001B[0m\u001B[0;34m.\u001B[0m\u001B[0mfn_jac\u001B[0m\u001B[0;34m(\u001B[0m\u001B[0mu\u001B[0m\u001B[0;34m)\u001B[0m\u001B[0;34m,\u001B[0m\u001B[0mmethod\u001B[0m\u001B[0;34m=\u001B[0m\u001B[0;34m\"CG\"\u001B[0m\u001B[0;34m,\u001B[0m\u001B[0moptions\u001B[0m\u001B[0;34m=\u001B[0m\u001B[0;34m{\u001B[0m\u001B[0;34m\"maxiter\"\u001B[0m\u001B[0;34m:\u001B[0m\u001B[0mmax_it\u001B[0m\u001B[0;34m}\u001B[0m\u001B[0;34m)\u001B[0m\u001B[0;34m\u001B[0m\u001B[0;34m\u001B[0m\u001B[0m\n\u001B[0m\u001B[1;32m      5\u001B[0m \u001B[0;34m\u001B[0m\u001B[0m\n\u001B[1;32m      6\u001B[0m \u001B[0mx\u001B[0m \u001B[0;34m=\u001B[0m \u001B[0msolution\u001B[0m\u001B[0;34m[\u001B[0m\u001B[0;34m\"x\"\u001B[0m\u001B[0;34m]\u001B[0m\u001B[0;34m.\u001B[0m\u001B[0mreshape\u001B[0m\u001B[0;34m(\u001B[0m\u001B[0mf\u001B[0m\u001B[0;34m.\u001B[0m\u001B[0mshape\u001B[0m\u001B[0;34m)\u001B[0m\u001B[0;34m\u001B[0m\u001B[0;34m\u001B[0m\u001B[0m\n",
      "\u001B[0;32m/opt/homebrew/Caskroom/miniforge/base/envs/energy-model/lib/python3.9/site-packages/scipy/optimize/_minimize.py\u001B[0m in \u001B[0;36mminimize\u001B[0;34m(fun, x0, args, method, jac, hess, hessp, bounds, constraints, tol, callback, options)\u001B[0m\n\u001B[1;32m    614\u001B[0m         \u001B[0;32mreturn\u001B[0m \u001B[0m_minimize_powell\u001B[0m\u001B[0;34m(\u001B[0m\u001B[0mfun\u001B[0m\u001B[0;34m,\u001B[0m \u001B[0mx0\u001B[0m\u001B[0;34m,\u001B[0m \u001B[0margs\u001B[0m\u001B[0;34m,\u001B[0m \u001B[0mcallback\u001B[0m\u001B[0;34m,\u001B[0m \u001B[0mbounds\u001B[0m\u001B[0;34m,\u001B[0m \u001B[0;34m**\u001B[0m\u001B[0moptions\u001B[0m\u001B[0;34m)\u001B[0m\u001B[0;34m\u001B[0m\u001B[0;34m\u001B[0m\u001B[0m\n\u001B[1;32m    615\u001B[0m     \u001B[0;32melif\u001B[0m \u001B[0mmeth\u001B[0m \u001B[0;34m==\u001B[0m \u001B[0;34m'cg'\u001B[0m\u001B[0;34m:\u001B[0m\u001B[0;34m\u001B[0m\u001B[0;34m\u001B[0m\u001B[0m\n\u001B[0;32m--> 616\u001B[0;31m         \u001B[0;32mreturn\u001B[0m \u001B[0m_minimize_cg\u001B[0m\u001B[0;34m(\u001B[0m\u001B[0mfun\u001B[0m\u001B[0;34m,\u001B[0m \u001B[0mx0\u001B[0m\u001B[0;34m,\u001B[0m \u001B[0margs\u001B[0m\u001B[0;34m,\u001B[0m \u001B[0mjac\u001B[0m\u001B[0;34m,\u001B[0m \u001B[0mcallback\u001B[0m\u001B[0;34m,\u001B[0m \u001B[0;34m**\u001B[0m\u001B[0moptions\u001B[0m\u001B[0;34m)\u001B[0m\u001B[0;34m\u001B[0m\u001B[0;34m\u001B[0m\u001B[0m\n\u001B[0m\u001B[1;32m    617\u001B[0m     \u001B[0;32melif\u001B[0m \u001B[0mmeth\u001B[0m \u001B[0;34m==\u001B[0m \u001B[0;34m'bfgs'\u001B[0m\u001B[0;34m:\u001B[0m\u001B[0;34m\u001B[0m\u001B[0;34m\u001B[0m\u001B[0m\n\u001B[1;32m    618\u001B[0m         \u001B[0;32mreturn\u001B[0m \u001B[0m_minimize_bfgs\u001B[0m\u001B[0;34m(\u001B[0m\u001B[0mfun\u001B[0m\u001B[0;34m,\u001B[0m \u001B[0mx0\u001B[0m\u001B[0;34m,\u001B[0m \u001B[0margs\u001B[0m\u001B[0;34m,\u001B[0m \u001B[0mjac\u001B[0m\u001B[0;34m,\u001B[0m \u001B[0mcallback\u001B[0m\u001B[0;34m,\u001B[0m \u001B[0;34m**\u001B[0m\u001B[0moptions\u001B[0m\u001B[0;34m)\u001B[0m\u001B[0;34m\u001B[0m\u001B[0;34m\u001B[0m\u001B[0m\n",
      "\u001B[0;32m/opt/homebrew/Caskroom/miniforge/base/envs/energy-model/lib/python3.9/site-packages/scipy/optimize/optimize.py\u001B[0m in \u001B[0;36m_minimize_cg\u001B[0;34m(fun, x0, args, jac, callback, gtol, norm, eps, maxiter, disp, return_all, finite_diff_rel_step, **unknown_options)\u001B[0m\n\u001B[1;32m   1584\u001B[0m         \u001B[0;32mtry\u001B[0m\u001B[0;34m:\u001B[0m\u001B[0;34m\u001B[0m\u001B[0;34m\u001B[0m\u001B[0m\n\u001B[1;32m   1585\u001B[0m             \u001B[0malpha_k\u001B[0m\u001B[0;34m,\u001B[0m \u001B[0mfc\u001B[0m\u001B[0;34m,\u001B[0m \u001B[0mgc\u001B[0m\u001B[0;34m,\u001B[0m \u001B[0mold_fval\u001B[0m\u001B[0;34m,\u001B[0m \u001B[0mold_old_fval\u001B[0m\u001B[0;34m,\u001B[0m \u001B[0mgfkp1\u001B[0m \u001B[0;34m=\u001B[0m\u001B[0;31m \u001B[0m\u001B[0;31m\\\u001B[0m\u001B[0;34m\u001B[0m\u001B[0;34m\u001B[0m\u001B[0m\n\u001B[0;32m-> 1586\u001B[0;31m                      _line_search_wolfe12(f, myfprime, xk, pk, gfk, old_fval,\n\u001B[0m\u001B[1;32m   1587\u001B[0m                                           \u001B[0mold_old_fval\u001B[0m\u001B[0;34m,\u001B[0m \u001B[0mc2\u001B[0m\u001B[0;34m=\u001B[0m\u001B[0;36m0.4\u001B[0m\u001B[0;34m,\u001B[0m \u001B[0mamin\u001B[0m\u001B[0;34m=\u001B[0m\u001B[0;36m1e-100\u001B[0m\u001B[0;34m,\u001B[0m \u001B[0mamax\u001B[0m\u001B[0;34m=\u001B[0m\u001B[0;36m1e100\u001B[0m\u001B[0;34m,\u001B[0m\u001B[0;34m\u001B[0m\u001B[0;34m\u001B[0m\u001B[0m\n\u001B[1;32m   1588\u001B[0m                                           extra_condition=descent_condition)\n",
      "\u001B[0;32m/opt/homebrew/Caskroom/miniforge/base/envs/energy-model/lib/python3.9/site-packages/scipy/optimize/optimize.py\u001B[0m in \u001B[0;36m_line_search_wolfe12\u001B[0;34m(f, fprime, xk, pk, gfk, old_fval, old_old_fval, **kwargs)\u001B[0m\n\u001B[1;32m   1003\u001B[0m     \u001B[0mextra_condition\u001B[0m \u001B[0;34m=\u001B[0m \u001B[0mkwargs\u001B[0m\u001B[0;34m.\u001B[0m\u001B[0mpop\u001B[0m\u001B[0;34m(\u001B[0m\u001B[0;34m'extra_condition'\u001B[0m\u001B[0;34m,\u001B[0m \u001B[0;32mNone\u001B[0m\u001B[0;34m)\u001B[0m\u001B[0;34m\u001B[0m\u001B[0;34m\u001B[0m\u001B[0m\n\u001B[1;32m   1004\u001B[0m \u001B[0;34m\u001B[0m\u001B[0m\n\u001B[0;32m-> 1005\u001B[0;31m     ret = line_search_wolfe1(f, fprime, xk, pk, gfk,\n\u001B[0m\u001B[1;32m   1006\u001B[0m                              \u001B[0mold_fval\u001B[0m\u001B[0;34m,\u001B[0m \u001B[0mold_old_fval\u001B[0m\u001B[0;34m,\u001B[0m\u001B[0;34m\u001B[0m\u001B[0;34m\u001B[0m\u001B[0m\n\u001B[1;32m   1007\u001B[0m                              **kwargs)\n",
      "\u001B[0;32m/opt/homebrew/Caskroom/miniforge/base/envs/energy-model/lib/python3.9/site-packages/scipy/optimize/linesearch.py\u001B[0m in \u001B[0;36mline_search_wolfe1\u001B[0;34m(f, fprime, xk, pk, gfk, old_fval, old_old_fval, args, c1, c2, amax, amin, xtol)\u001B[0m\n\u001B[1;32m     94\u001B[0m     \u001B[0mderphi0\u001B[0m \u001B[0;34m=\u001B[0m \u001B[0mnp\u001B[0m\u001B[0;34m.\u001B[0m\u001B[0mdot\u001B[0m\u001B[0;34m(\u001B[0m\u001B[0mgfk\u001B[0m\u001B[0;34m,\u001B[0m \u001B[0mpk\u001B[0m\u001B[0;34m)\u001B[0m\u001B[0;34m\u001B[0m\u001B[0;34m\u001B[0m\u001B[0m\n\u001B[1;32m     95\u001B[0m \u001B[0;34m\u001B[0m\u001B[0m\n\u001B[0;32m---> 96\u001B[0;31m     stp, fval, old_fval = scalar_search_wolfe1(\n\u001B[0m\u001B[1;32m     97\u001B[0m             \u001B[0mphi\u001B[0m\u001B[0;34m,\u001B[0m \u001B[0mderphi\u001B[0m\u001B[0;34m,\u001B[0m \u001B[0mold_fval\u001B[0m\u001B[0;34m,\u001B[0m \u001B[0mold_old_fval\u001B[0m\u001B[0;34m,\u001B[0m \u001B[0mderphi0\u001B[0m\u001B[0;34m,\u001B[0m\u001B[0;34m\u001B[0m\u001B[0;34m\u001B[0m\u001B[0m\n\u001B[1;32m     98\u001B[0m             c1=c1, c2=c2, amax=amax, amin=amin, xtol=xtol)\n",
      "\u001B[0;32m/opt/homebrew/Caskroom/miniforge/base/envs/energy-model/lib/python3.9/site-packages/scipy/optimize/linesearch.py\u001B[0m in \u001B[0;36mscalar_search_wolfe1\u001B[0;34m(phi, derphi, phi0, old_phi0, derphi0, c1, c2, amax, amin, xtol)\u001B[0m\n\u001B[1;32m    150\u001B[0m         \u001B[0mderphi0\u001B[0m \u001B[0;34m=\u001B[0m \u001B[0mderphi\u001B[0m\u001B[0;34m(\u001B[0m\u001B[0;36m0.\u001B[0m\u001B[0;34m)\u001B[0m\u001B[0;34m\u001B[0m\u001B[0;34m\u001B[0m\u001B[0m\n\u001B[1;32m    151\u001B[0m \u001B[0;34m\u001B[0m\u001B[0m\n\u001B[0;32m--> 152\u001B[0;31m     \u001B[0;32mif\u001B[0m \u001B[0mold_phi0\u001B[0m \u001B[0;32mis\u001B[0m \u001B[0;32mnot\u001B[0m \u001B[0;32mNone\u001B[0m \u001B[0;32mand\u001B[0m \u001B[0mderphi0\u001B[0m \u001B[0;34m!=\u001B[0m \u001B[0;36m0\u001B[0m\u001B[0;34m:\u001B[0m\u001B[0;34m\u001B[0m\u001B[0;34m\u001B[0m\u001B[0m\n\u001B[0m\u001B[1;32m    153\u001B[0m         \u001B[0malpha1\u001B[0m \u001B[0;34m=\u001B[0m \u001B[0mmin\u001B[0m\u001B[0;34m(\u001B[0m\u001B[0;36m1.0\u001B[0m\u001B[0;34m,\u001B[0m \u001B[0;36m1.01\u001B[0m\u001B[0;34m*\u001B[0m\u001B[0;36m2\u001B[0m\u001B[0;34m*\u001B[0m\u001B[0;34m(\u001B[0m\u001B[0mphi0\u001B[0m \u001B[0;34m-\u001B[0m \u001B[0mold_phi0\u001B[0m\u001B[0;34m)\u001B[0m\u001B[0;34m/\u001B[0m\u001B[0mderphi0\u001B[0m\u001B[0;34m)\u001B[0m\u001B[0;34m\u001B[0m\u001B[0;34m\u001B[0m\u001B[0m\n\u001B[1;32m    154\u001B[0m         \u001B[0;32mif\u001B[0m \u001B[0malpha1\u001B[0m \u001B[0;34m<\u001B[0m \u001B[0;36m0\u001B[0m\u001B[0;34m:\u001B[0m\u001B[0;34m\u001B[0m\u001B[0;34m\u001B[0m\u001B[0m\n",
      "\u001B[0;31mValueError\u001B[0m: The truth value of an array with more than one element is ambiguous. Use a.any() or a.all()"
     ]
    }
   ],
   "source": [
    "E = Energy(f, u, 0.01, 0.05, 1e-3)\n",
    "max_it = 100000\n",
    "print(E.fn_jac(u))\n",
    "solution=optimize.minimize(lambda u: E.energy(u),np.zeros(E.f.size,),jac=lambda u: E.fn_jac(u),method=\"CG\",options={\"maxiter\":max_it})\n",
    "\n",
    "x = solution[\"x\"].reshape(f.shape)\n",
    "print(x)\n",
    "\n",
    "plt.imshow(x, cmap=\"Greys\")\n"
   ],
   "metadata": {
    "collapsed": false,
    "pycharm": {
     "name": "#%%\n"
    }
   }
  }
 ],
 "metadata": {
  "kernelspec": {
   "display_name": "Python 3",
   "language": "python",
   "name": "python3"
  },
  "language_info": {
   "codemirror_mode": {
    "name": "ipython",
    "version": 2
   },
   "file_extension": ".py",
   "mimetype": "text/x-python",
   "name": "python",
   "nbconvert_exporter": "python",
   "pygments_lexer": "ipython2",
   "version": "2.7.6"
  }
 },
 "nbformat": 4,
 "nbformat_minor": 0
}