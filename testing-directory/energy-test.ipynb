{
 "cells": [
  {
   "cell_type": "code",
   "execution_count": 349,
   "metadata": {},
   "outputs": [],
   "source": [
    "import numpy as np\n",
    "from scipy import misc\n",
    "from scipy import optimize\n",
    "from scipy import misc\n",
    "from scipy import ndimage\n",
    "import cv2\n",
    "\n",
    "import matplotlib.pyplot as plt"
   ]
  },
  {
   "cell_type": "code",
   "execution_count": 350,
   "outputs": [],
   "source": [
    "alpha = 0.1\n",
    "beta = 0.1"
   ],
   "metadata": {
    "collapsed": false,
    "pycharm": {
     "name": "#%%\n"
    }
   }
  },
  {
   "cell_type": "code",
   "execution_count": 351,
   "metadata": {
    "pycharm": {
     "name": "#%%\n"
    }
   },
   "outputs": [],
   "source": [
    "def forward_differences(u):\n",
    "    '''\n",
    "        u: Image matrix of dimensions (y,x)\n",
    "        returns matrix fu of dimensions (2,y,x)\n",
    "    '''\n",
    "    fu = np.zeros( [2] + list(u.shape) )\n",
    "\n",
    "    fu[0,:-1,:] = u[1:,:] - u[:-1,:]\t#y differences (rows-1,cols)\n",
    "    fu[1,:,:-1] = u[:,1:] - u[:,:-1]\t#x differences (rows,cols-1)\n",
    "\n",
    "    return fu\n",
    "\n",
    "def backward_differences(u):\n",
    "    '''\n",
    "        u: Image matrix of dimensions (y,x)\n",
    "        returns matrix fu of dimensions (2,y,x)\n",
    "    '''\n",
    "    fu = np.zeros( [2] + list(u.shape) )\n",
    "\n",
    "    fu[0,1:,:] = u[1:,:] - u[:-1,:]\t#y differences\n",
    "    fu[1,:,1:] = u[:,1:] - u[:,:-1]\t#x differences\n",
    "\n",
    "    return fu\n",
    "\n",
    "def forward_differences_second(u):\n",
    "    fu = np.zeros( [2] + list(u.shape) )\n",
    "\n",
    "    fu[0,1:-1,:] = u[0:-2,:] - 2*u[1:-1,:] + u[2:,:]\t#y differences\n",
    "    fu[1,:,1:-1] = u[:,0:-2] - 2*u[:,1:-1] + u[:,2:]\t#x differences\n",
    "\n",
    "    return fu"
   ]
  },
  {
   "cell_type": "code",
   "execution_count": 352,
   "metadata": {
    "pycharm": {
     "name": "#%%\n"
    }
   },
   "outputs": [],
   "source": [
    "class TotalGradient:\n",
    "    def __init__(self,img):\n",
    "        self.shape = img.shape\n",
    "        self.nchannels = img.shape[2]\n",
    "\n",
    "        self.gradX = np.zeros( (img.shape[0],img.shape[1],self.nchannels ) )\n",
    "        self.gradY = np.zeros( (img.shape[0],img.shape[1],self.nchannels ) )\n",
    "\n",
    "        self.grad2X = np.zeros( (img.shape[0],img.shape[1],self.nchannels ) )\n",
    "        self.grad2Y = np.zeros( (img.shape[0],img.shape[1],self.nchannels ) )\n",
    "\n",
    "        for c in range(self.nchannels):\n",
    "            fd = forward_differences(img[:,:,c])\n",
    "            self.gradX[:,:,c] += fd[0] #dx\n",
    "            self.gradY[:,:,c] += fd[1] #dy\n",
    "\n",
    "            fd2 = forward_differences_second(img[:,:,c])\n",
    "            self.grad2X[:,:,c] += fd2[0] #dx\n",
    "            self.grad2Y[:,:,c] += fd2[1] #dy\n",
    "\n",
    "\n",
    "    def norm(self):\n",
    "        rows,cols,channels = self.shape\n",
    "\n",
    "        n=np.zeros( (rows,cols) )\n",
    "        for c in range(self.nchannels):\n",
    "            n+=self.gradX[:,:,c]**2 + self.gradY[:,:,c]**2\n",
    "\n",
    "        return n"
   ]
  },
  {
   "cell_type": "code",
   "execution_count": 353,
   "outputs": [],
   "source": [
    "class Tikhonov:\n",
    "    def __init__(self,img,lbda):\n",
    "        self.fimg = img\n",
    "        self.lbda = lbda\n",
    "\n",
    "        self.my_shape=self.fimg.shape\n",
    "        self.my_size=self.fimg.size\n",
    "\n",
    "    def fn_jac(self,x):\n",
    "        _x = x.reshape( self.my_shape )\n",
    "        TG=TotalGradient(_x)\n",
    "        TGX=TotalGradient(TG.gradX/np.sqrt(TG.gradX**2 + 1e-4))\n",
    "        TGY=TotalGradient(TG.gradY/np.sqrt(TG.gradY**2 + 1e-4))\n",
    "\n",
    "        S= self.lbda*(alpha * TG.gradX + beta*TG.gradY)\n",
    "\n",
    "        return ( _x - self.fimg -S ).reshape( self.my_size, )\n",
    "\n",
    "    def tikhonov(self,x):\n",
    "        _x = x.reshape( self.my_shape )\n",
    "        TG=TotalGradient(_x)\n",
    "\n",
    "        v= 0.5*( np.linalg.norm(_x - self.fimg)**2 + self.lbda*np.sum(TG.norm()) )\n",
    "        return v"
   ],
   "metadata": {
    "collapsed": false,
    "pycharm": {
     "name": "#%%\n"
    }
   }
  },
  {
   "cell_type": "code",
   "execution_count": 354,
   "outputs": [],
   "source": [
    "def denoise_image(input_image,lbda,max_it,print_output=False):\n",
    "    if print_output:\n",
    "        print(\"Executing Tikhonov...\")\n",
    "\n",
    "    T=Tikhonov(input_image,lbda)\n",
    "    solution=optimize.minimize(lambda x: T.tikhonov(x),np.zeros(T.fimg.size,),jac=lambda x: T.fn_jac(x),method=\"BFGS\",options={\"maxiter\":max_it,\"disp\":print_output})\n",
    "\n",
    "    x = solution[\"x\"].reshape( T.my_shape )\n",
    "    return x"
   ],
   "metadata": {
    "collapsed": false,
    "pycharm": {
     "name": "#%%\n"
    }
   }
  },
  {
   "cell_type": "code",
   "execution_count": 355,
   "metadata": {
    "pycharm": {
     "name": "#%%\n"
    }
   },
   "outputs": [
    {
     "data": {
      "text/plain": "array([[[162, 162, 162],\n        [228, 228, 228],\n        [160, 160, 160],\n        ...,\n        [127, 127, 127],\n        [139, 139, 139],\n        [147, 147, 147]],\n\n       [[162, 162, 162],\n        [162, 162, 162],\n        [197, 197, 197],\n        ...,\n        [173, 173, 173],\n        [175, 175, 175],\n        [147, 147, 147]],\n\n       [[163, 163, 163],\n        [160, 160, 160],\n        [160, 160, 160],\n        ...,\n        [245, 245, 245],\n        [251, 251, 251],\n        [115, 115, 115]],\n\n       ...,\n\n       [[123, 123, 123],\n        [ 52,  52,  52],\n        [106, 106, 106],\n        ...,\n        [ 82,  82,  82],\n        [ 93,  93,  93],\n        [ 92,  92,  92]],\n\n       [[ 45,  45,  45],\n        [ 49,  49,  49],\n        [ 66,  66,  66],\n        ...,\n        [113, 113, 113],\n        [101, 101, 101],\n        [ 99,  99,  99]],\n\n       [[166, 166, 166],\n        [ 53,  53,  53],\n        [ 50,  50,  50],\n        ...,\n        [101, 101, 101],\n        [103, 103, 103],\n        [107, 107, 107]]], dtype=uint8)"
     },
     "execution_count": 355,
     "metadata": {},
     "output_type": "execute_result"
    }
   ],
   "source": [
    "cv2.imread(\"data/testimgs/lena_noise_hurl_256.png\")"
   ]
  },
  {
   "cell_type": "code",
   "execution_count": 356,
   "metadata": {
    "pycharm": {
     "name": "#%%\n"
    }
   },
   "outputs": [],
   "source": [
    "def make3channel(img):\n",
    "    if len(img.shape)==2:\n",
    "        _img = np.zeros( img.shape + (3,) )\n",
    "\n",
    "        for c in range(3):\n",
    "            _img[:,:,c] = img.copy()\n",
    "\n",
    "        img = _img\n",
    "    return img"
   ]
  },
  {
   "cell_type": "code",
   "execution_count": 357,
   "metadata": {
    "pycharm": {
     "name": "#%%\n"
    }
   },
   "outputs": [
    {
     "name": "stdout",
     "output_type": "stream",
     "text": [
      "Executing Tikhonov...\n",
      "Optimization terminated successfully.\n",
      "         Current function value: 13.706365\n",
      "         Iterations: 4\n",
      "         Function evaluations: 6\n",
      "         Gradient evaluations: 6\n"
     ]
    }
   ],
   "source": [
    "noisy_img = np.asfarray(cv2.imread(\"data/testimgs/8.png\"))\n",
    "noisy_img /= 255.0\n",
    "\n",
    "noisy_img_rotate = ndimage.rotate(noisy_img, 90, reshape=False)\n",
    "\n",
    "noisy_img_rotate[14] = 0.2\n",
    "\n",
    "noisy_img_rotate_back = ndimage.rotate(noisy_img_rotate, -90, reshape=False)\n",
    "\n",
    "noisy_img = make3channel(noisy_img)\n",
    "\n",
    "dimg = denoise_image(noisy_img_rotate_back, 0.12, 1000, print_output=True)"
   ]
  },
  {
   "cell_type": "code",
   "execution_count": 358,
   "metadata": {
    "pycharm": {
     "name": "#%%\n"
    }
   },
   "outputs": [
    {
     "name": "stderr",
     "output_type": "stream",
     "text": [
      "Clipping input data to the valid range for imshow with RGB data ([0..1] for floats or [0..255] for integers).\n"
     ]
    },
    {
     "data": {
      "text/plain": "<Figure size 432x288 with 2 Axes>",
      "image/png": "[encoded data removed]"
     },
     "metadata": {
      "needs_background": "light"
     },
     "output_type": "display_data"
    }
   ],
   "source": [
    "fig,axs=plt.subplots(1,2)\n",
    "axNoisy,axDenoise = axs\n",
    "\n",
    "\n",
    "axNoisy.imshow(noisy_img)\n",
    "axDenoise.imshow(noisy_img_rotate_back)\n",
    "plt.show()"
   ]
  },
  {
   "cell_type": "code",
   "execution_count": 358,
   "metadata": {},
   "outputs": [],
   "source": []
  }
 ],
 "metadata": {
  "kernelspec": {
   "display_name": "Python 3 (ipykernel)",
   "language": "python",
   "name": "python3"
  },
  "language_info": {
   "codemirror_mode": {
    "name": "ipython",
    "version": 3
   },
   "file_extension": ".py",
   "mimetype": "text/x-python",
   "name": "python",
   "nbconvert_exporter": "python",
   "pygments_lexer": "ipython3",
   "version": "3.9.7"
  }
 },
 "nbformat": 4,
 "nbformat_minor": 1
}