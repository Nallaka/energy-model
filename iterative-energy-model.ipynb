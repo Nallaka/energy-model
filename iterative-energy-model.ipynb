{
 "cells": [
  {
   "cell_type": "code",
   "execution_count": 130,
   "metadata": {
    "collapsed": true
   },
   "outputs": [],
   "source": [
    "import math\n",
    "import random\n",
    "\n",
    "import matplotlib.pyplot as plt\n",
    "import torch\n",
    "import torch.nn as nn\n",
    "import torch.nn.functional as F\n",
    "import torch.utils.data as data\n",
    "import torch.optim as optim\n",
    "# Torchvision\n",
    "import torchvision\n",
    "from torchvision.datasets import MNIST\n",
    "from torchvision import transforms\n",
    "import kornia as K\n",
    "from scipy import ndimage\n",
    "import numpy as np"
   ]
  },
  {
   "cell_type": "code",
   "execution_count": 131,
   "outputs": [],
   "source": [
    "class AddGaussianNoise(object):\n",
    "    def __init__(self, mean=0., std=1.):\n",
    "        self.std = std\n",
    "        self.mean = mean\n",
    "\n",
    "    def __call__(self, tensor):\n",
    "        return tensor + torch.randn(tensor.size()) * self.std + self.mean\n",
    "\n",
    "    def __repr__(self):\n",
    "        return self.__class__.__name__ + '(mean={0}, std={1})'.format(self.mean, self.std)"
   ],
   "metadata": {
    "collapsed": false,
    "pycharm": {
     "name": "#%%\n"
    }
   }
  },
  {
   "cell_type": "code",
   "execution_count": 132,
   "outputs": [
    {
     "name": "stdout",
     "output_type": "stream",
     "text": [
      "Image Size: torch.Size([28, 28])\n",
      "tensor([[  0,   0,   0,   0,   0,   0,   0,   0,   0,   0,   0,   0,   0,   0,\n",
      "           0,   0,   0,   0,   0,   0,   0,   0,   0,   0,   0,   0,   0,   0],\n",
      "        [  0,   0,   0,   0,   0,   0,   0,   0,   0,   0,   0,   0,   0,   0,\n",
      "           0,   0,   0,   0,   0,   0,   0,   0,   0,   0,   0,   0,   0,   0],\n",
      "        [  0,   0,   0,   0,   0,   0,   0,   0,   0,   0,   0,   0,   0,   0,\n",
      "           0,   0,   0,   0,   0,   0,   0,   0,   0,   0,   0,   0,   0,   0],\n",
      "        [  0,   0,   0,   0,   0,   0,   0,   0,   0,   0,   0,   0,   0,   0,\n",
      "           0,   0,   0,   0,   0,   0,   0,   0,   0,   0,   0,   0,   0,   0],\n",
      "        [  0,   0,   0,   0,   0,   0,   0,   0,   0,   0,   0,   0,   0,   0,\n",
      "           0,   0,   0,   0,   0,   0,   0,   0,   0,   0,   0,   0,   0,   0],\n",
      "        [  0,   0,   0,   0,   0,   0,   0,   0,   0,   0,   0,   0, 100, 237,\n",
      "         121,   0,   0,   0,   0,   0,   0,  13,  48,  18,   0,   0,   0,   0],\n",
      "        [  0,   0,   0,   0,   0,   0,   0,   0,   0,   0,   0, 132, 235, 254,\n",
      "         202,   0,   0,   0,   0,   0,   8, 179, 254,  94,   0,   0,   0,   0],\n",
      "        [  0,   0,   0,   0,   0,   0,   0,   0,   0,   0,   0, 224, 254, 237,\n",
      "          48,   0,   0,   0,   0,   0,  10, 209, 254,  94,   0,   0,   0,   0],\n",
      "        [  0,   0,   0,   0,   0,   0,   0,   0,   0,   0,   0, 224, 254, 112,\n",
      "           0,   0,   0,   0,   0,   0,  16, 233, 251,  63,   0,   0,   0,   0],\n",
      "        [  0,   0,   0,   0,   0,   0,   0,   0,   0,   0,  49, 240, 222,  20,\n",
      "           0,   0,   0,   0,   0,   0, 118, 254, 191,   0,   0,   0,   0,   0],\n",
      "        [  0,   0,   0,   0,   0,   0,   0,   0,   0,  19, 231, 255, 120,   0,\n",
      "           0,   0,   0,   0,   0,  23, 205, 254, 111,   0,   0,   0,   0,   0],\n",
      "        [  0,   0,   0,   0,   0,   0,   0,   0,   6, 168, 255, 241,  47,   0,\n",
      "           0,   0,   0,   0,   0,  85, 254, 254,  36,   0,   0,   0,   0,   0],\n",
      "        [  0,   0,   0,   0,   0,   0,   0,   0,  84, 254, 254,  67,   0,   0,\n",
      "           0,   0,   0,   0,   8, 200, 254, 184,  13,   0,   0,   0,   0,   0],\n",
      "        [  0,   0,   0,   0,   0,   0,   0,   3, 172, 254, 221,  18,   0,   0,\n",
      "           0,   0,   0,   0, 120, 254, 246,  48,   0,   0,   0,   0,   0,   0],\n",
      "        [  0,   0,   0,   0,   0,   0,   0, 162, 254, 238,  30,   0,   0,   0,\n",
      "           0,   0,   0,   0, 157, 254, 212,   0,   0,   0,   0,   0,   0,   0],\n",
      "        [  0,   0,   0,   0,   0,   0, 116, 253, 254, 105,   0,   0,   0,   0,\n",
      "           0,   0,   0, 112, 252, 254, 129,   0,   0,   0,   0,   0,   0,   0],\n",
      "        [  0,   0,   0,   0,   0,   0, 198, 254, 172,   1,   0,   0,   0,  36,\n",
      "         107, 146, 249, 253, 254, 210,  13,   0,   0,   0,   0,   0,   0,   0],\n",
      "        [  0,   0,   0,   0,   0,   0, 198, 254, 134,  10,  89,  96, 193, 245,\n",
      "         254, 254, 254, 254, 254, 140,   0,   0,   0,   0,   0,   0,   0,   0],\n",
      "        [  0,   0,   0,   0,   0,   0, 198, 254, 244, 241, 254, 254, 254, 254,\n",
      "         223, 140, 252, 254, 169,   5,   0,   0,   0,   0,   0,   0,   0,   0],\n",
      "        [  0,   0,   0,   0,   0,   0, 137, 252, 254, 254, 254, 218, 176,  88,\n",
      "           0,   0, 250, 254, 120,   0,   0,   0,   0,   0,   0,   0,   0,   0],\n",
      "        [  0,   0,   0,   0,   0,   0,   0,  25,  60, 119,  26,  14,   0,   0,\n",
      "           0,   9, 251, 254,  25,   0,   0,   0,   0,   0,   0,   0,   0,   0],\n",
      "        [  0,   0,   0,   0,   0,   0,   0,   0,   0,   0,   0,   0,   0,   0,\n",
      "           0, 100, 254, 194,   5,   0,   0,   0,   0,   0,   0,   0,   0,   0],\n",
      "        [  0,   0,   0,   0,   0,   0,   0,   0,   0,   0,   0,   0,   0,   0,\n",
      "           0, 189, 254, 166,   0,   0,   0,   0,   0,   0,   0,   0,   0,   0],\n",
      "        [  0,   0,   0,   0,   0,   0,   0,   0,   0,   0,   0,   0,   0,   0,\n",
      "           0, 203, 254, 166,   0,   0,   0,   0,   0,   0,   0,   0,   0,   0],\n",
      "        [  0,   0,   0,   0,   0,   0,   0,   0,   0,   0,   0,   0,   0,   0,\n",
      "           0,  78, 253, 124,   0,   0,   0,   0,   0,   0,   0,   0,   0,   0],\n",
      "        [  0,   0,   0,   0,   0,   0,   0,   0,   0,   0,   0,   0,   0,   0,\n",
      "           0,   0,   0,   0,   0,   0,   0,   0,   0,   0,   0,   0,   0,   0],\n",
      "        [  0,   0,   0,   0,   0,   0,   0,   0,   0,   0,   0,   0,   0,   0,\n",
      "           0,   0,   0,   0,   0,   0,   0,   0,   0,   0,   0,   0,   0,   0],\n",
      "        [  0,   0,   0,   0,   0,   0,   0,   0,   0,   0,   0,   0,   0,   0,\n",
      "           0,   0,   0,   0,   0,   0,   0,   0,   0,   0,   0,   0,   0,   0]],\n",
      "       dtype=torch.uint8)\n"
     ]
    },
    {
     "data": {
      "text/plain": "<Figure size 432x288 with 1 Axes>",
      "image/png": "[encoded data removed]"
     },
     "metadata": {
      "needs_background": "light"
     },
     "output_type": "display_data"
    }
   ],
   "source": [
    "DATASET_PATH = \"./data\"\n",
    "\n",
    "transform = transforms.Compose([transforms.ToTensor(),\n",
    "                                transforms.Normalize((0.5,), (0.5,)),\n",
    "                                AddGaussianNoise(0., .75)])\n",
    "\n",
    "train_set = MNIST(root=DATASET_PATH, train=True, transform=transform, download=True)\n",
    "\n",
    "TEST_IMG_INDEX = 64\n",
    "\n",
    "img = train_set.data[TEST_IMG_INDEX]\n",
    "print(f\"Image Size: {img.size()}\")\n",
    "print(img)\n",
    "plt.title(\"Test Image\")\n",
    "plt.imshow(img, cmap=\"Greys\")\n",
    "\n",
    "train_loader = data.DataLoader(train_set, batch_size=128, shuffle=True, drop_last=True, num_workers=4, pin_memory=True)"
   ],
   "metadata": {
    "collapsed": false,
    "pycharm": {
     "name": "#%%\n"
    }
   }
  },
  {
   "cell_type": "code",
   "execution_count": 133,
   "outputs": [
    {
     "name": "stdout",
     "output_type": "stream",
     "text": [
      "torch.Size([60000, 28, 28])\n"
     ]
    }
   ],
   "source": [
    "input_imgs = torch.clone(train_set.data)\n",
    "input_imgs.data.to(torch.float)\n",
    "print(input_imgs.data.size())\n",
    "noise = torch.rand(input_imgs.data.size(), device=train_set.data.device) * 255 - 255\n",
    "\n",
    "noisy_imgs = input_imgs.data.add(noise.data.int())\n",
    "noisy_imgs.data.clamp_(min=-255, max=255)\n",
    "\n",
    "clean_img = input_imgs.data[TEST_IMG_INDEX]\n",
    "noisy_img = noisy_imgs.data[TEST_IMG_INDEX]\n",
    "\n",
    "noisy_img_removed = torch.clone(noisy_img)\n",
    "\n",
    "rand_chance = np.random.randint(0, 28, size=28)\n",
    "rand_lines = np.random.randint(0, 28, size=28)\n",
    "\n",
    "for i in rand_lines:\n",
    "    if rand_chance[i] < 9:\n",
    "        for j in range(noisy_img_removed.size()[0]):\n",
    "            noisy_img_removed[j][rand_lines[i]] = 0\n",
    "\n",
    "noisy_img_old = noisy_img\n",
    "noisy_img = noisy_img_removed"
   ],
   "metadata": {
    "collapsed": false,
    "pycharm": {
     "name": "#%%\n"
    }
   }
  },
  {
   "cell_type": "code",
   "execution_count": 134,
   "outputs": [
    {
     "data": {
      "text/plain": "<matplotlib.image.AxesImage at 0x22e041c6700>"
     },
     "execution_count": 134,
     "metadata": {},
     "output_type": "execute_result"
    },
    {
     "data": {
      "text/plain": "<Figure size 432x288 with 1 Axes>",
      "image/png": "[encoded data removed]"
     },
     "metadata": {
      "needs_background": "light"
     },
     "output_type": "display_data"
    }
   ],
   "source": [
    "plt.title(\"Clean Img Test:\")\n",
    "plt.imshow(clean_img, cmap=\"Greys\")"
   ],
   "metadata": {
    "collapsed": false,
    "pycharm": {
     "name": "#%%\n"
    }
   }
  },
  {
   "cell_type": "code",
   "execution_count": 135,
   "outputs": [
    {
     "data": {
      "text/plain": "<matplotlib.image.AxesImage at 0x22e006fe7f0>"
     },
     "execution_count": 135,
     "metadata": {},
     "output_type": "execute_result"
    },
    {
     "data": {
      "text/plain": "<Figure size 432x288 with 1 Axes>",
      "image/png": "[encoded data removed]"
     },
     "metadata": {
      "needs_background": "light"
     },
     "output_type": "display_data"
    }
   ],
   "source": [
    "plt.title(\"Noisy Img Test:\")\n",
    "plt.imshow(noisy_img_old, cmap=\"Greys\")"
   ],
   "metadata": {
    "collapsed": false,
    "pycharm": {
     "name": "#%%\n"
    }
   }
  },
  {
   "cell_type": "code",
   "execution_count": 136,
   "outputs": [
    {
     "data": {
      "text/plain": "<matplotlib.image.AxesImage at 0x22e041c9c40>"
     },
     "execution_count": 136,
     "metadata": {},
     "output_type": "execute_result"
    },
    {
     "data": {
      "text/plain": "<Figure size 432x288 with 1 Axes>",
      "image/png": "[encoded data removed]"
     },
     "metadata": {
      "needs_background": "light"
     },
     "output_type": "display_data"
    }
   ],
   "source": [
    "plt.title(\"Noisy Img Removed Test:\")\n",
    "plt.imshow(noisy_img_removed, cmap=\"Greys\")"
   ],
   "metadata": {
    "collapsed": false,
    "pycharm": {
     "name": "#%%\n"
    }
   }
  },
  {
   "cell_type": "code",
   "execution_count": 137,
   "outputs": [],
   "source": [
    "ALPHA = 0.01\n",
    "BETA = 0.01"
   ],
   "metadata": {
    "collapsed": false,
    "pycharm": {
     "name": "#%%\n"
    }
   }
  },
  {
   "cell_type": "code",
   "execution_count": 138,
   "outputs": [
    {
     "name": "stdout",
     "output_type": "stream",
     "text": [
      "Gradient Calculation Test:\n"
     ]
    },
    {
     "data": {
      "text/plain": "<Figure size 432x288 with 1 Axes>",
      "image/png": "[encoded data removed]"
     },
     "metadata": {
      "needs_background": "light"
     },
     "output_type": "display_data"
    }
   ],
   "source": [
    "print(\"Gradient Calculation Test:\")\n",
    "\n",
    "sy = ndimage.sobel(noisy_img,axis=0,mode='constant')\n",
    "sx = ndimage.sobel(noisy_img,axis=1,mode='constant')\n",
    "\n",
    "sobel=np.hypot(sx,sy)\n",
    "plots = np.concatenate((sx, sy, sobel), axis = 1)\n",
    "plt.title(\"Grad X, Grad Y, Sobel\")\n",
    "plt.imshow(plots,cmap=plt.cm.gray)\n",
    "plt.show()"
   ],
   "metadata": {
    "collapsed": false,
    "pycharm": {
     "name": "#%%\n"
    }
   }
  },
  {
   "cell_type": "code",
   "execution_count": 139,
   "outputs": [],
   "source": [
    "def grads(img):\n",
    "    sy = ndimage.sobel(img,axis=0,mode='nearest')\n",
    "    sx = ndimage.sobel(img,axis=1,mode='nearest')\n",
    "\n",
    "    #sobel=np.hypot(sx,sy)\n",
    "\n",
    "    return sx, sy"
   ],
   "metadata": {
    "collapsed": false,
    "pycharm": {
     "name": "#%%\n"
    }
   }
  },
  {
   "cell_type": "code",
   "execution_count": 140,
   "outputs": [
    {
     "data": {
      "text/plain": "<matplotlib.image.AxesImage at 0x22e041a4880>"
     },
     "execution_count": 140,
     "metadata": {},
     "output_type": "execute_result"
    },
    {
     "data": {
      "text/plain": "<Figure size 432x288 with 1 Axes>",
      "image/png": "[encoded data removed]"
     },
     "metadata": {
      "needs_background": "light"
     },
     "output_type": "display_data"
    }
   ],
   "source": [
    "e1 = ALPHA * sx + BETA * sy\n",
    "e2 = torch.subtract(clean_img, noisy_img)\n",
    "e2 = e2.numpy()\n",
    "e2 = np.square(e2)\n",
    "e2 = np.multiply(e2, 0.5)\n",
    "energy = np.add(e1, e2)\n",
    "plt.title(f\"Energy: {np.sum(energy)}\")\n",
    "plt.imshow(noisy_img, cmap=\"Greys\")"
   ],
   "metadata": {
    "collapsed": false,
    "pycharm": {
     "name": "#%%\n"
    }
   }
  },
  {
   "cell_type": "code",
   "execution_count": 141,
   "outputs": [],
   "source": [
    "def energy(clean_img, noisy_img):\n",
    "    e1 = ALPHA * sx + BETA * sy\n",
    "    e2 = torch.subtract(clean_img, noisy_img)\n",
    "    e2 = e2.numpy()\n",
    "    e2 = np.square(e2)\n",
    "    e2 = np.multiply(e2, 0.5)\n",
    "    energy = np.add(e1, e2)\n",
    "    return np.sum(energy)\n"
   ],
   "metadata": {
    "collapsed": false,
    "pycharm": {
     "name": "#%%\n"
    }
   }
  },
  {
   "cell_type": "code",
   "execution_count": 142,
   "outputs": [],
   "source": [
    "learning_rate = 1e-3\n",
    "iterations = []\n",
    "for i in range(0, 2048):\n",
    "    dx, dy = grads(noisy_img)\n",
    "    dxx, dyx = grads(dx/np.sqrt(np.square(dx + 0.0001)))\n",
    "    dxy, dyy = grads(dy/np.sqrt(np.square(dy + 0.0001)))\n",
    "\n",
    "    du = np.add((ALPHA * dxx + BETA * dyy), np.subtract(clean_img, noisy_img))\n",
    "    noisy_img = noisy_img + learning_rate * du\n",
    "\n",
    "    if (i % 64 == 0):\n",
    "        iterations.append(noisy_img)\n"
   ],
   "metadata": {
    "collapsed": false,
    "pycharm": {
     "name": "#%%\n"
    }
   }
  },
  {
   "cell_type": "code",
   "execution_count": 143,
   "outputs": [],
   "source": [
    "def psnr(img1, img2):\n",
    "    mse = np.mean((img1 - img2) ** 2)\n",
    "    if mse == 0:\n",
    "        return 100\n",
    "    PIXEL_MAX = 255.0\n",
    "    return 20 * math.log10(PIXEL_MAX / math.sqrt(mse))"
   ],
   "metadata": {
    "collapsed": false,
    "pycharm": {
     "name": "#%%\n"
    }
   }
  },
  {
   "cell_type": "code",
   "execution_count": 144,
   "outputs": [
    {
     "name": "stdout",
     "output_type": "stream",
     "text": [
      "8.0\n",
      "Iteration 0 Energy: 7189676.446277907\n",
      "Iteration 3 Energy: 4899673.277672561\n",
      "Iteration 7 Energy: 2935274.759041923\n",
      "Iteration 11 Energy: 1758411.945360022\n",
      "Iteration 15 Energy: 1053368.0472895144\n"
     ]
    },
    {
     "data": {
      "text/plain": "<Figure size 432x288 with 0 Axes>"
     },
     "metadata": {},
     "output_type": "display_data"
    },
    {
     "data": {
      "text/plain": "<Figure size 432x288 with 5 Axes>",
      "image/png": "[encoded data removed]"
     },
     "metadata": {
      "needs_background": "light"
     },
     "output_type": "display_data"
    }
   ],
   "source": [
    "plt.figure()\n",
    "\n",
    "f, axarr = plt.subplots(1, 5)\n",
    "plt.set_cmap(\"Greys\")\n",
    "\n",
    "print(iterations.__len__() / 4)\n",
    "\n",
    "for i in range(0, 5):\n",
    "    print(f\"Iteration {(i * 4 - 1, 0)[i ==0]} Energy: {energy(clean_img, iterations[(i * 4 - 1, 0)[i ==0]])}\")\n",
    "    axarr[i].imshow(iterations[(i * 4 - 1, 0)[i ==0]])"
   ],
   "metadata": {
    "collapsed": false,
    "pycharm": {
     "name": "#%%\n"
    }
   }
  }
 ],
 "metadata": {
  "kernelspec": {
   "display_name": "Python 3",
   "language": "python",
   "name": "python3"
  },
  "language_info": {
   "codemirror_mode": {
    "name": "ipython",
    "version": 2
   },
   "file_extension": ".py",
   "mimetype": "text/x-python",
   "name": "python",
   "nbconvert_exporter": "python",
   "pygments_lexer": "ipython2",
   "version": "2.7.6"
  }
 },
 "nbformat": 4,
 "nbformat_minor": 0
}